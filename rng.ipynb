{
 "cells": [
  {
   "cell_type": "markdown",
   "id": "b4854b62",
   "metadata": {},
   "source": [
    "# Генерация случайных значений и комбинаторика\n",
    "\n",
    "Модуля для генерации случайных значений:\n",
    "* модуль random\n",
    "* numpy.random\n",
    "* scipy.stats\n",
    "\n",
    "Сравнение разных способов:\n",
    "1. Встроенный модуль `random` vs `numpy.random`\n",
    "   1. Основаны на разных генераторах (MT19937 для random и PCG64 для numpy.random)\n",
    "   2. Во многом схожи, у numpy генератора больше методов, быстрее генерирует большое количество значений и дает на выходе numpy массивы. \n",
    "2. Модуль `numpy.random` vs `scipy.stats`\n",
    "   1. Scipy под капотом использует numpy.random, но знает больше различных распределений. Более подробно описаное в [distributions.ipynb](distributions.ipynb)\n"
   ]
  },
  {
   "cell_type": "markdown",
   "id": "f4805cad",
   "metadata": {},
   "source": [
    "## Numpy.random\n",
    "\n",
    "Начиная с версии 1.17 (2019 год) предпочительным способо использования является создание экзмепляра класса `Generator` вызовом метода `np.random.default_rng()` и использование различных методов этотго класса для генерации случайных значений.\n",
    "\n",
    "[Список методов](https://numpy.org/doc/stable/reference/random/generator.html)"
   ]
  },
  {
   "cell_type": "code",
   "execution_count": 64,
   "id": "6f133840",
   "metadata": {},
   "outputs": [
    {
     "name": "stdout",
     "output_type": "stream",
     "text": [
      "Integers: [2 4 6 0 9]\n",
      "Floats [0.0, 1.0): [0.93141018 0.5284698  0.48427996 0.48775773 0.24912085]\n",
      "Normal distribution (mean=0, std=1): [ 0.1918961  -0.09142838  1.02079859  1.83484805  0.86225244]\n",
      "Random choice from array: ['apple' 'banana' 'cherry' 'cherry' 'apple']\n",
      "Random permutation of array: [3 5 1 4 2]\n"
     ]
    }
   ],
   "source": [
    "import numpy as np\n",
    "np.set_printoptions(legacy=\"1.25\")\n",
    "rng = np.random.default_rng()\n",
    "\n",
    "print(\"Integers:\", rng.integers(low=0, high=10, size=5))\n",
    "print(\"Floats [0.0, 1.0):\", rng.uniform(low=0.0, high=1.0, size=5))\n",
    "print(\"Normal distribution (mean=0, std=1):\", rng.normal(loc=0.0, scale=1.0, size=5))\n",
    "print(\"Random choice from array:\", rng.choice(['apple', 'banana', 'cherry'], size=5))\n",
    "print(\"Random permutation of array:\", rng.permutation([1, 2, 3, 4, 5]))\n"
   ]
  },
  {
   "cell_type": "markdown",
   "id": "48cf87a2",
   "metadata": {},
   "source": [
    "**Перемешивание массивов**\n",
    "\n",
    "Для перемешивания массивов имеется 3 метода:\n",
    "1. `shuffle` - перемешивает inplace\n",
    "2. `permutation` - перемешивает и создаёт копию\n",
    "3. `permuted` - перемешивает. может делать inplace, может создавать копию.\n",
    "\n",
    "Важным отличием первых двух от третьего является то, что для многомерных массивов перемешивание происходит целиком по строчкам/столбцам (меняется порядок их следования, но не порядок элементов внутри), тогда как третий метод перемешивает значения внутри строк/столбцов, не меняя их порядок."
   ]
  },
  {
   "cell_type": "code",
   "execution_count": 20,
   "id": "4b35424e",
   "metadata": {},
   "outputs": [
    {
     "data": {
      "text/plain": [
       "array([[4, 6, 0, 1, 7],\n",
       "       [2, 2, 1, 4, 6],\n",
       "       [4, 8, 6, 4, 1]])"
      ]
     },
     "execution_count": 20,
     "metadata": {},
     "output_type": "execute_result"
    }
   ],
   "source": [
    "rng = np.random.default_rng()\n",
    "\n",
    "x = rng.integers(10, size=15).reshape(3, 5)\n",
    "x"
   ]
  },
  {
   "cell_type": "code",
   "execution_count": 21,
   "id": "3231c395",
   "metadata": {},
   "outputs": [
    {
     "data": {
      "text/plain": [
       "array([[2, 2, 1, 4, 6],\n",
       "       [4, 8, 6, 4, 1],\n",
       "       [4, 6, 0, 1, 7]])"
      ]
     },
     "execution_count": 21,
     "metadata": {},
     "output_type": "execute_result"
    }
   ],
   "source": [
    "rng.permutation(x, axis=0)"
   ]
  },
  {
   "cell_type": "code",
   "execution_count": 22,
   "id": "ba25106f",
   "metadata": {},
   "outputs": [
    {
     "data": {
      "text/plain": [
       "array([[4, 8, 6, 4, 1],\n",
       "       [2, 2, 0, 1, 7],\n",
       "       [4, 6, 1, 4, 6]])"
      ]
     },
     "execution_count": 22,
     "metadata": {},
     "output_type": "execute_result"
    }
   ],
   "source": [
    "rng.permuted(x, axis=0)"
   ]
  },
  {
   "cell_type": "markdown",
   "id": "01ca68cb",
   "metadata": {},
   "source": [
    "## Комбинаторика\n",
    "\n",
    "Чтобы просто посчитать количество способов используем методы из модуля `scipy.special`, если хотим получить сами наборы элементов, то используем методы из модуля `itertools`"
   ]
  },
  {
   "cell_type": "code",
   "execution_count": 76,
   "id": "38b0fefc",
   "metadata": {},
   "outputs": [],
   "source": [
    "from itertools import combinations, permutations\n",
    "from scipy.special import comb, perm"
   ]
  },
  {
   "cell_type": "markdown",
   "id": "b0e53ca6",
   "metadata": {},
   "source": [
    "**Комбинации (combinations)** - выбор *k* элементов из набора *n* элементов, порядок неважен.\n",
    "\n",
    "$C_n^k=\\frac{n!}{(n-k)!k!}$"
   ]
  },
  {
   "cell_type": "code",
   "execution_count": null,
   "id": "3b0ae6e6",
   "metadata": {},
   "outputs": [
    {
     "name": "stdout",
     "output_type": "stream",
     "text": [
      "Amount of combinations of 3 from 5: 10.0\n",
      "Combinations of 3 from 5: [(0, 1, 2), (0, 1, 3), (0, 1, 4), (0, 2, 3), (0, 2, 4), (0, 3, 4), (1, 2, 3), (1, 2, 4), (1, 3, 4), (2, 3, 4)]\n"
     ]
    }
   ],
   "source": [
    "# Простой случай одиночных значений\n",
    "k, n = 3, 5\n",
    "x = range(n)\n",
    "print(f\"Amount of combinations of {k} from {n}:\", comb(n, k))\n",
    "print(f\"Combinations of {k} from {n}:\", list(combinations(x, k)))"
   ]
  },
  {
   "cell_type": "code",
   "execution_count": 75,
   "id": "35b9b501",
   "metadata": {},
   "outputs": [
    {
     "name": "stdout",
     "output_type": "stream",
     "text": [
      "Amount of combinations of [1, 2, 3, 4, 5] from 5: [ 5. 10. 10.  5.  1.]\n",
      "Combinations of 2 from 5: [(0, 1), (0, 2), (0, 3), (0, 4), (1, 2), (1, 3), (1, 4), (2, 3), (2, 4), (3, 4)]\n"
     ]
    }
   ],
   "source": [
    "# Наборы значений\n",
    "k, n = [1,2,3,4,5], 5\n",
    "print(f\"Amount of combinations of {k} from {n}:\", comb(n, k))\n",
    "print(f\"Combinations of {k[1]} from {n}:\", list(combinations(x, k[1])))"
   ]
  },
  {
   "cell_type": "markdown",
   "id": "88918717",
   "metadata": {},
   "source": [
    "**Перестановки (permutations)** - выбор *k* элементов из набора *n* элементов, порядок важен.\n",
    "\n",
    "$A_n^k=\\frac{n!}{(n-k)!}$"
   ]
  },
  {
   "cell_type": "code",
   "execution_count": 80,
   "id": "3e36a58d",
   "metadata": {},
   "outputs": [
    {
     "name": "stdout",
     "output_type": "stream",
     "text": [
      "Amount of combinations of 2 from 5: 20.0\n",
      "Combinations of 2 from 5: [(0, 1), (0, 2), (0, 3), (0, 4), (1, 0), (1, 2), (1, 3), (1, 4), (2, 0), (2, 1), (2, 3), (2, 4), (3, 0), (3, 1), (3, 2), (3, 4), (4, 0), (4, 1), (4, 2), (4, 3)]\n"
     ]
    }
   ],
   "source": [
    "# Простой случай одиночных значений\n",
    "k, n = 2, 5\n",
    "x = range(n)\n",
    "print(f\"Amount of combinations of {k} from {n}:\", perm(n, k))\n",
    "print(f\"Combinations of {k} from {n}:\", list(permutations(x, k)))"
   ]
  },
  {
   "cell_type": "code",
   "execution_count": 77,
   "id": "0017f035",
   "metadata": {},
   "outputs": [
    {
     "name": "stdout",
     "output_type": "stream",
     "text": [
      "Amount of combinations of [1, 2, 3, 4, 5] from 5: [  5.  20.  60. 120. 120.]\n",
      "Combinations of 2 from 5: [(0, 1), (0, 2), (0, 3), (0, 4), (1, 0), (1, 2), (1, 3), (1, 4), (2, 0), (2, 1), (2, 3), (2, 4), (3, 0), (3, 1), (3, 2), (3, 4), (4, 0), (4, 1), (4, 2), (4, 3)]\n"
     ]
    }
   ],
   "source": [
    "# Наборы значений\n",
    "k, n = [1,2,3,4,5], 5\n",
    "print(f\"Amount of combinations of {k} from {n}:\", perm(n, k))\n",
    "print(f\"Combinations of {k[1]} from {n}:\", list(permutations(x, k[1])))"
   ]
  }
 ],
 "metadata": {
  "kernelspec": {
   "display_name": "venv",
   "language": "python",
   "name": "python3"
  },
  "language_info": {
   "codemirror_mode": {
    "name": "ipython",
    "version": 3
   },
   "file_extension": ".py",
   "mimetype": "text/x-python",
   "name": "python",
   "nbconvert_exporter": "python",
   "pygments_lexer": "ipython3",
   "version": "3.13.3"
  }
 },
 "nbformat": 4,
 "nbformat_minor": 5
}
