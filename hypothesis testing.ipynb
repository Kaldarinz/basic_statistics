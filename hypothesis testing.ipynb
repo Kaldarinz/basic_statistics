{
 "cells": [
  {
   "cell_type": "code",
   "execution_count": 2,
   "id": "764e71a4",
   "metadata": {},
   "outputs": [],
   "source": [
    "import scipy.stats as stats\n",
    "import numpy as np\n",
    "import pandas as pd\n",
    "import matplotlib.pyplot as plt\n",
    "import statsmodels.api as sm\n",
    "import statsmodels.formula.api as smf\n",
    "\n",
    "import os"
   ]
  },
  {
   "cell_type": "markdown",
   "id": "125ba1bb",
   "metadata": {},
   "source": [
    "# Статистическое тестирование гипотез\n",
    "\n",
    "Суть статистического тестирования гипотез сводится к следующим шагам:\n",
    "1. Формулируется гипотеза (**нуль-гипотеза**) о значении некоторой статистики (численной фнукции, зависящей только от членов выборки) для популяций (-ции), из которых были набраны наши наборы данных.\n",
    "2. Формулируется альтернативная гипотеза.\n",
    "3. Задаётся уровень статистической значимости (**альфа**).\n",
    "4. Вычисляется значение этой статистики на имеющихся выборках.\n",
    "5. Определяется распределение (формульное или сэмплированием) этой статистики.\n",
    "6. На основе полученного распределения определяется вероятность (**p-значение**) получить значение статистики равное или превышающее значение, полученное в п.3.\n",
    "7. Если p-значение меньше альфа, то нуль гипотеза отвергается в пользу альтернативной, в противном случае нуль-гипотеза не отвергается.\n",
    "\n",
    "Смысл **p-значения** - вероятность слуайным образом получить значение статистики равное или более экстремальное, *при условии справедливости нуль-гипотезы*.\n",
    "\n",
    "## Виды статистических ошибок\n",
    "1. Ошибка первого рода - отвергаем нуль-гипотезу, хотя она верна.\n",
    "2. Ошибка второго рода - отвергаем альтернативную гипотезу, хотя она верна.\n",
    "\n",
    "Обычно ошибки первого рода для нас более критичны, поэтому альфа выбирают достаточно малым (0.05, 0.01, 0.005). Однако при уменьшении альфа одновременно повышается вероятность ошибки второго рода, поэтому в некоторых случаях, когда для нас важно получить малое значение ошибок первого *и* второго рода, имеет смысл не делать p-значение слишком маленьким."
   ]
  },
  {
   "cell_type": "markdown",
   "id": "a2d6cfdd",
   "metadata": {},
   "source": [
    "# Быстрый выбор теста\n",
    "\n",
    "### Критерий выбора статистики центра\n",
    "1. Если распределение хотя бы одной из выборок существенно отличается от нормального - используем медиану\n",
    "2. В остальных случаях среднее арифметическое.\n",
    "\n",
    "### Критерий существенного отклонения от нормальности:\n",
    "1. Наличие выбросов\n",
    "2. Явная ассимметрия гистрограммы\n",
    "3. Очень сильное отклонение формы гистограммы от колоколообразной формы (ступенька - пограничная форма)\n",
    "\n",
    "Либо что-то из автоматизированных\n",
    "1. Тест [Шапиро-Вилка](https://docs.scipy.org/doc/scipy/reference/generated/scipy.stats.shapiro.html#scipy.stats.shapiro)\n",
    "2. Тест [Харке-Бера](https://docs.scipy.org/doc/scipy/reference/generated/scipy.stats.jarque_bera.html#scipy.stats.jarque_bera)\n",
    "3. [Тест нормальности](https://docs.scipy.org/doc/scipy/reference/generated/scipy.stats.normaltest.html#scipy.stats.normaltest)\n",
    "\n",
    "Эти тесты в асимптотическом (формульном) варианте хорошо работают на больших выборках. С небольшими выборками можно использовать любую из их статистик и метод Монте-Карло.\n",
    "\n",
    "### **Различные тесты**\n",
    "\n",
    "#### Категориальные данные\n",
    "* [тест хи-квардрат](https://docs.scipy.org/doc/scipy/reference/generated/scipy.stats.chi2_contingency.html#scipy.stats.chi2_contingency)\n",
    "* Для таблиц сопряженности с небольшой суммой всех значений в таблице сопряженностей можно пользоваться [точным тестом Фишера](https://docs.scipy.org/doc/scipy/reference/generated/scipy.stats.fisher_exact.html#scipy.stats.fisher_exact)\n",
    "#### Проверка равенства дисперсий\n",
    "* [Тест Флингера-Киллина](https://docs.scipy.org/doc/scipy/reference/generated/scipy.stats.fligner.html#scipy.stats.fligner)\n",
    "\n",
    "#### Проверка равенства средних значений\n",
    "* Равенство среднего конкретному значению [ttest_1samp](https://docs.scipy.org/doc/scipy/reference/generated/scipy.stats.ttest_1samp.html#scipy.stats.ttest_1samp)\n",
    "* Равенство средних двух независимых выборок [ttest_ind](https://docs.scipy.org/doc/scipy/reference/generated/scipy.stats.ttest_ind.html#scipy.stats.ttest_ind)\n",
    "* Равенство средних двух связанных выборок (наблюдаются одни и теже объекты до и после некоторого события) [ttest_rel](https://docs.scipy.org/doc/scipy/reference/generated/scipy.stats.ttest_rel.html#scipy.stats.ttest_rel)\n",
    "* Равенство средних значений нескольких (>2) групп [f_oneway](https://docs.scipy.org/doc/scipy/reference/generated/scipy.stats.f_oneway.html#scipy.stats.f_oneway)\n",
    "\n",
    "#### Проверка равенства рангов (медиан/квантилей)\n",
    "* Равенство медиан двух независимых выборок [Ман-Уитни](https://docs.scipy.org/doc/scipy/reference/generated/scipy.stats.mannwhitneyu.html#scipy.stats.mannwhitneyu)\n",
    "* Равенство медиан двух связанных выборок (наблюдаются одни и теже объекты до и после некоторого события) [Вилкоксон](https://docs.scipy.org/doc/scipy/reference/generated/scipy.stats.wilcoxon.html#scipy.stats.wilcoxon)\n",
    "* Равенство медиан значений нескольких (>2) групп тест [Краскера-Уоллиса](https://docs.scipy.org/doc/scipy/reference/generated/scipy.stats.kruskal.html#scipy.stats.kruskal) \n",
    "\n",
    "#### Проверка корреляций\n",
    "* Линейная корреляция [Пирсон](https://docs.scipy.org/doc/scipy/reference/generated/scipy.stats.pearsonr.html#scipy.stats.pearsonr)\n",
    "* Монотонная корреляция [Спирман](https://docs.scipy.org/doc/scipy/reference/generated/scipy.stats.spearmanr.html#scipy.stats.spearmanr)"
   ]
  },
  {
   "cell_type": "markdown",
   "id": "75911366",
   "metadata": {},
   "source": [
    "# Resampling и формульные тесты\n",
    "\n",
    "В целом можно выделить 2 вида тестов гипотез: \n",
    "* **формульные** или **асимпоттические**. В этом случае p-значение вычисляется на основе некоторого торетического распределения используемой статистики. Эти методы работают быстро, но накладывают определенные ограничения на используемые данные и делают некоторые предположения относительно изучаемой популяции.\n",
    "* Основанные на **многократном повторном сэмплировании** имеющихся данных. Здесь практически не делается никаких предположений о характере распределения данных, а интересующая нас статистика вычисляется много раз на случайно сэмплированных данных (из имеющихся). Таким образом получается экспериментальное распределение интересующей нас статистики и уже из этого распределения вычисляется p-значение.\n",
    "\n",
    "Resampling тесты предпочтительнее формульных (асимптотических), когда количество данных в выборках невелико.\n",
    "\n",
    "### **Resampling тесты**\n",
    "* **bootstrap** - Используется для определения надежности оценки. Суть в сэмплировании с замещением (один и тот же элемент можно выбрать сколько угодно раз) имеющегося набора данных и вычислении на этих данных интересующей нас статистики. В scipy реализуется методом [bootstrap](https://docs.scipy.org/doc/scipy/reference/generated/scipy.stats.bootstrap.html#scipy.stats.bootstrap). Подробно рассмотрен в:\n",
    "  * [bootstrap.ipynb](./add/bootstrap.ipynb)\n",
    "* **permutations** - Используется для тестирования гипотез. Суть в объединении данных всех групп в один набор, перемешивании и наборе таких же по размеру групп заново, и последующей вычислении статистики. В scipy реализуется методом [permutation_test](https://docs.scipy.org/doc/scipy/reference/generated/scipy.stats.permutation_test.html#scipy.stats.permutation_test). Подробно рассмотрен в:\n",
    "  * [permutattions.ipynb](./add/permutations.ipynb)\n",
    "  * [perm_ind_sample.ipynb](./add/perm_ind_sample.ipynb)\n",
    "  * [perm_paired_sample.ipynb](./add/perm_paired_sample.ipynb)\n",
    "  * [perm_corr_sample.ipynb](./add/perm_corr_sample.ipynb)\n",
    "* **monte carlo** - Используется для проверки гипотезы о том, что имеющееся значение статистики было получено на наборе данных, случайно выбранных из заданного распределения. Пример: проверка гипотезы о том, что значение ассимметрия имеющегося набора данных соответствует значению, которого можно ожидать для данных, набранных из стандартного нормального распределения. В scipy реализуется методом [monte_carlo_test](https://docs.scipy.org/doc/scipy/reference/generated/scipy.stats.monte_carlo_test.html#scipy.stats.monte_carlo_test). Подробно рассмотрен в:\n",
    "  * [MonteCarloTests.ipynb](./add/MonteCarloTests.ipynb)"
   ]
  },
  {
   "cell_type": "markdown",
   "id": "d002c473",
   "metadata": {},
   "source": [
    "# Тест хи-квадрат\n",
    "\n",
    "Используется для категориальных данных. Чаще всего используется с таблицами сопряженности, чтобы проверить имеют ли категории в тестируемых группах одинаковое распределение.\n",
    "\n",
    "### **Ключпевые понятия**\n",
    "1. **Остаток пирсона (Pearson residual, R)** Вычисляемое значение для ячеек таблицы сопряженности. Вычисляется на основе исходного значения ячейки и её ожидаемого значения ([вычисление ожидаемых значений](https://docs.scipy.org/doc/scipy/reference/generated/scipy.stats.contingency.expected_freq.html#scipy.stats.contingency.expected_freq)). Формула для вычисления $R = \\frac{Observed-Expected}{\\sqrt{Expected}}$\n",
    "2. **Статистика хи-квадрат (chi-sqared statistics)** Сумма квадратов остатков пирсона по всем ячейкам таблицы сопряженности.\n",
    "\n",
    "    $X=\\displaystyle\\sum_{i}^{r}\\sum_{j}^{c}R^2$\n",
    "\n",
    "    *r* - количество строк, *c* - количество столбцов в таблице.\n",
    "\n",
    "**Перестановочная реализация**\n",
    "1. Собираем все данные в один набор\n",
    "2. Заново случайным образом набираем группы\n",
    "3. Составляем таблицу сопряженности\n",
    "4. Считаем значение хи-квадрат.\n",
    "5. Повторяем шаги 2-4 много раз.\n",
    "6. Строим распределение значений хи-квардарт и смотрим в какой доле случаев значение хи-вадрат больше его значения, полученного для исходных данных. "
   ]
  },
  {
   "cell_type": "code",
   "execution_count": 46,
   "id": "2bb1a925",
   "metadata": {},
   "outputs": [
    {
     "data": {
      "application/vnd.microsoft.datawrangler.viewer.v0+json": {
       "columns": [
        {
         "name": "index",
         "rawType": "object",
         "type": "string"
        },
        {
         "name": "Success",
         "rawType": "int64",
         "type": "integer"
        },
        {
         "name": "Failure",
         "rawType": "int64",
         "type": "integer"
        }
       ],
       "ref": "1ed1f095-d815-4067-beaa-c8408bf79447",
       "rows": [
        [
         "Design A",
         "14",
         "986"
        ],
        [
         "Design B",
         "8",
         "992"
        ],
        [
         "Design C",
         "12",
         "988"
        ]
       ],
       "shape": {
        "columns": 2,
        "rows": 3
       }
      },
      "text/html": [
       "<div>\n",
       "<style scoped>\n",
       "    .dataframe tbody tr th:only-of-type {\n",
       "        vertical-align: middle;\n",
       "    }\n",
       "\n",
       "    .dataframe tbody tr th {\n",
       "        vertical-align: top;\n",
       "    }\n",
       "\n",
       "    .dataframe thead th {\n",
       "        text-align: right;\n",
       "    }\n",
       "</style>\n",
       "<table border=\"1\" class=\"dataframe\">\n",
       "  <thead>\n",
       "    <tr style=\"text-align: right;\">\n",
       "      <th></th>\n",
       "      <th>Success</th>\n",
       "      <th>Failure</th>\n",
       "    </tr>\n",
       "  </thead>\n",
       "  <tbody>\n",
       "    <tr>\n",
       "      <th>Design A</th>\n",
       "      <td>14</td>\n",
       "      <td>986</td>\n",
       "    </tr>\n",
       "    <tr>\n",
       "      <th>Design B</th>\n",
       "      <td>8</td>\n",
       "      <td>992</td>\n",
       "    </tr>\n",
       "    <tr>\n",
       "      <th>Design C</th>\n",
       "      <td>12</td>\n",
       "      <td>988</td>\n",
       "    </tr>\n",
       "  </tbody>\n",
       "</table>\n",
       "</div>"
      ],
      "text/plain": [
       "          Success  Failure\n",
       "Design A       14      986\n",
       "Design B        8      992\n",
       "Design C       12      988"
      ]
     },
     "execution_count": 46,
     "metadata": {},
     "output_type": "execute_result"
    }
   ],
   "source": [
    "df = pd.DataFrame({\n",
    "    'Design A': [14, 986],\n",
    "    'Design B': [8, 992],\n",
    "    'Design C': [12, 988]\n",
    "}, index=['Success', 'Failure']).T\n",
    "df"
   ]
  },
  {
   "cell_type": "code",
   "execution_count": 75,
   "id": "7ae634dd",
   "metadata": {},
   "outputs": [
    {
     "name": "stdout",
     "output_type": "stream",
     "text": [
      "Initial Chi-squared: 1.6659394708658917\n",
      "Chi-squared p-value: 0.4784\n"
     ]
    },
    {
     "data": {
      "image/png": "[encoded data removed]",
      "text/plain": [
       "<Figure size 640x480 with 1 Axes>"
      ]
     },
     "metadata": {},
     "output_type": "display_data"
    }
   ],
   "source": [
    "results = []\n",
    "expected = stats.contingency.expected_freq(df)\n",
    "chi2_initial = ((df - expected) ** 2 / expected).sum().sum()\n",
    "print(f\"Initial Chi-squared: {chi2_initial}\")\n",
    "for _ in range(10000):\n",
    "    draw = stats.random_table.rvs(df.sum(axis=1), df.sum(axis=0))\n",
    "    chi2 = ((draw - expected) ** 2 / expected).sum().sum()\n",
    "    results.append(chi2)\n",
    "\n",
    "plt.hist(results, bins=40)\n",
    "plt.axvline(chi2_initial, color='black', lw=2)\n",
    "plt.text(chi2_initial*1.3, 1500, 'Observed\\nchi-sqaured', bbox={'facecolor':'white'})\n",
    "plt.title('Distribution of Chi-squared Values')\n",
    "plt.xlabel('Chi-squared Value')\n",
    "plt.ylabel('Density')\n",
    "p_val = (np.array(results) >= chi2_initial).mean()\n",
    "print(f\"Chi-squared p-value: {p_val}\")"
   ]
  },
  {
   "cell_type": "markdown",
   "id": "8f9244bb",
   "metadata": {},
   "source": [
    "Альтернативный способ сделать тоже самое гораздо быстрее (но без возможности построить распределение) приведён ниже."
   ]
  },
  {
   "cell_type": "code",
   "execution_count": 76,
   "id": "143a3c57",
   "metadata": {},
   "outputs": [
    {
     "name": "stdout",
     "output_type": "stream",
     "text": [
      "Chi-squared test statistic: 1.6659394708658917\n",
      "Chi-squared p-value: 0.4837\n"
     ]
    }
   ],
   "source": [
    "result = stats.chi2_contingency(df, method=stats.MonteCarloMethod(), correction=False)\n",
    "print(f\"Chi-squared test statistic: {result.statistic}\")\n",
    "print(f\"Chi-squared p-value: {result.pvalue}\")"
   ]
  },
  {
   "cell_type": "markdown",
   "id": "99a5b119",
   "metadata": {},
   "source": [
    "### Формульный подход\n",
    "\n",
    "Распределение статистики хи-квардрат ассимптотически аппроксимируется распределением хи-квадрат с соответствующим количеством степеней свободы.\n",
    "\n",
    "**Степени свободы (degrees of freedom)** - для таблицы сопряженности количество степеней свободы равно $(r-1)*(c-1)$\n",
    "\n",
    "По умолчанию метод [chi2_contingency](https://docs.scipy.org/doc/scipy/reference/generated/scipy.stats.chi2_contingency.html#scipy.stats.chi2_contingency) использует распределение хи-квадрат. Применение этого метода имеет ряд ограничений:\n",
    "1. Во всех ячейках таблицы значения должны быть не менее **5**\n",
    "2. В таблице не должно быть пропусков\n",
    "3. Когда сумма всех значений невелика лучше сделать один из точных тестов."
   ]
  },
  {
   "cell_type": "markdown",
   "id": "8b9a55be",
   "metadata": {},
   "source": [
    "# ANOVA (Analysis of variance)\n",
    "\n",
    "ANOVA используется для тестирования статистически значимых различий между группами, содержащими численные значения.\n",
    "\n",
    "Интуитивной альтернативой было бы проведение всех попарных тестов для групп, однако в такой случае нужно менять значение альфа, чтобы сохранить желаемую статистическую значимость (если групп много, то при заданной альфе чисто случайно может быть ошибка первого рода).\n",
    "\n",
    "Тест ANOVA, основанный на F-статистике предъявляют ряд требований к данным:\n",
    "1. Все группы независимы\n",
    "2. Все группы набраны случайным образом из своих популяций\n",
    "3. Популяции, из которых набраны группы имеют нормальное распределение\n",
    "4. Дисперсии популяций равны\n",
    "\n",
    "### **Ключевые понятия**\n",
    "1. **Парное сравнение (pairwise comparison)** - проверка статистической гипотезы (например, равенства средних) между двумя группами.\n",
    "2. **Общий тест (omnibus test)** - единый тест гипотезы об общей дисперсии некоторой статистики нескольких групп.\n",
    "   1. Например тест о равенстве средних значений во всех группах\n",
    "   2. Даёт общий ответ о наличии различий, но не говорит между какими конкретно группами есть различие.\n",
    "3. **Разложение дисперсии (decomposition of variance)** -  \n",
    "4. **F-статистика** - стандартизированная статистика, которая измеряет на сколько средние значения групп различаются друг от друга по сравнению с тем, чего можно было бы ожидать, если бы все группы были случайными выборками из единой популяции.\n",
    "\n",
    "**Перестановочная реализация без дополнительных предположений о данных**\n",
    "1. Собираем все данные в один набор.\n",
    "2. Набираем заново группы случайным образом (количество элементов в группах остаётся прежним).\n",
    "3. Считаем средние значения в группах.\n",
    "4. Считаем дисперсию этих средних значений.\n",
    "5. Повторяем пункты 2-4 много раз.\n",
    "6. Строим распределение посчитанной таким образом дисперсии и смотрим в какой доле случаев дисперсия равна или больше нашей исходной величине дисперсии средних значений. Эта величина и будет p-значением."
   ]
  },
  {
   "cell_type": "code",
   "execution_count": 11,
   "id": "b983c276",
   "metadata": {},
   "outputs": [
    {
     "data": {
      "image/png": "[encoded data removed]",
      "text/plain": [
       "<Figure size 400x400 with 1 Axes>"
      ]
     },
     "metadata": {},
     "output_type": "display_data"
    }
   ],
   "source": [
    "df = pd.read_csv(os.path.join('data', 'four_sessions.csv'))\n",
    "\n",
    "ax = df.boxplot(by='Page', column='Time',\n",
    "                           figsize=(4, 4))\n",
    "ax.set_xlabel('Page')\n",
    "ax.set_ylabel('Time (in seconds)')\n",
    "plt.suptitle('')\n",
    "plt.title('')\n",
    "\n",
    "plt.tight_layout()\n",
    "plt.show()"
   ]
  },
  {
   "cell_type": "code",
   "execution_count": 12,
   "id": "3c516cfa",
   "metadata": {},
   "outputs": [
    {
     "data": {
      "application/vnd.microsoft.datawrangler.viewer.v0+json": {
       "columns": [
        {
         "name": "index",
         "rawType": "int64",
         "type": "integer"
        },
        {
         "name": "Page 1",
         "rawType": "float64",
         "type": "float"
        },
        {
         "name": "Page 2",
         "rawType": "float64",
         "type": "float"
        },
        {
         "name": "Page 3",
         "rawType": "float64",
         "type": "float"
        },
        {
         "name": "Page 4",
         "rawType": "float64",
         "type": "float"
        }
       ],
       "ref": "f8138892-6f86-40a4-ae52-e07824c0e696",
       "rows": [
        [
         "0",
         "164.0",
         "178.0",
         "175.0",
         "155.0"
        ],
        [
         "1",
         "172.0",
         "191.0",
         "193.0",
         "166.0"
        ],
        [
         "2",
         "177.0",
         "182.0",
         "171.0",
         "164.0"
        ],
        [
         "3",
         "156.0",
         "185.0",
         "163.0",
         "170.0"
        ],
        [
         "4",
         "195.0",
         "177.0",
         "176.0",
         "168.0"
        ]
       ],
       "shape": {
        "columns": 4,
        "rows": 5
       }
      },
      "text/html": [
       "<div>\n",
       "<style scoped>\n",
       "    .dataframe tbody tr th:only-of-type {\n",
       "        vertical-align: middle;\n",
       "    }\n",
       "\n",
       "    .dataframe tbody tr th {\n",
       "        vertical-align: top;\n",
       "    }\n",
       "\n",
       "    .dataframe thead th {\n",
       "        text-align: right;\n",
       "    }\n",
       "</style>\n",
       "<table border=\"1\" class=\"dataframe\">\n",
       "  <thead>\n",
       "    <tr style=\"text-align: right;\">\n",
       "      <th>Page</th>\n",
       "      <th>Page 1</th>\n",
       "      <th>Page 2</th>\n",
       "      <th>Page 3</th>\n",
       "      <th>Page 4</th>\n",
       "    </tr>\n",
       "  </thead>\n",
       "  <tbody>\n",
       "    <tr>\n",
       "      <th>0</th>\n",
       "      <td>164.0</td>\n",
       "      <td>178.0</td>\n",
       "      <td>175.0</td>\n",
       "      <td>155.0</td>\n",
       "    </tr>\n",
       "    <tr>\n",
       "      <th>1</th>\n",
       "      <td>172.0</td>\n",
       "      <td>191.0</td>\n",
       "      <td>193.0</td>\n",
       "      <td>166.0</td>\n",
       "    </tr>\n",
       "    <tr>\n",
       "      <th>2</th>\n",
       "      <td>177.0</td>\n",
       "      <td>182.0</td>\n",
       "      <td>171.0</td>\n",
       "      <td>164.0</td>\n",
       "    </tr>\n",
       "    <tr>\n",
       "      <th>3</th>\n",
       "      <td>156.0</td>\n",
       "      <td>185.0</td>\n",
       "      <td>163.0</td>\n",
       "      <td>170.0</td>\n",
       "    </tr>\n",
       "    <tr>\n",
       "      <th>4</th>\n",
       "      <td>195.0</td>\n",
       "      <td>177.0</td>\n",
       "      <td>176.0</td>\n",
       "      <td>168.0</td>\n",
       "    </tr>\n",
       "  </tbody>\n",
       "</table>\n",
       "</div>"
      ],
      "text/plain": [
       "Page  Page 1  Page 2  Page 3  Page 4\n",
       "0      164.0   178.0   175.0   155.0\n",
       "1      172.0   191.0   193.0   166.0\n",
       "2      177.0   182.0   171.0   164.0\n",
       "3      156.0   185.0   163.0   170.0\n",
       "4      195.0   177.0   176.0   168.0"
      ]
     },
     "execution_count": 12,
     "metadata": {},
     "output_type": "execute_result"
    }
   ],
   "source": [
    "grouped = df.pivot(columns='Page', values='Time').apply(lambda x: x.dropna(ignore_index=True))\n",
    "grouped.head()"
   ]
  },
  {
   "cell_type": "code",
   "execution_count": 13,
   "id": "5c4a8a00",
   "metadata": {},
   "outputs": [
    {
     "name": "stdout",
     "output_type": "stream",
     "text": [
      "Observed means:\n",
      "Page\n",
      "Page 1    172.8\n",
      "Page 2    182.6\n",
      "Page 3    175.6\n",
      "Page 4    164.6\n",
      "dtype: float64\n",
      "Observed means variance: 55.426666666666655\n"
     ]
    }
   ],
   "source": [
    "print('Observed means:')\n",
    "print(grouped.mean())\n",
    "print('Observed means variance:', grouped.mean().var())\n",
    "observed_var = grouped.mean().var()"
   ]
  },
  {
   "cell_type": "code",
   "execution_count": 166,
   "id": "b5f12c43",
   "metadata": {},
   "outputs": [
    {
     "name": "stdout",
     "output_type": "stream",
     "text": [
      "P-value 0.08233333333333333\n"
     ]
    },
    {
     "data": {
      "image/png": "[encoded data removed]",
      "text/plain": [
       "<Figure size 500x500 with 1 Axes>"
      ]
     },
     "metadata": {},
     "output_type": "display_data"
    }
   ],
   "source": [
    "def perm_test(df):\n",
    "    df = df.copy()\n",
    "    df['Time'] = np.random.permutation(df['Time'])\n",
    "    return df.groupby('Page').mean().var().iloc[0]\n",
    "\n",
    "perm_variance = [perm_test(df) for _ in range(3000)]\n",
    "print('P-value', np.mean([var > observed_var for var in perm_variance]))\n",
    "\n",
    "fig, ax = plt.subplots(figsize=(5, 5))\n",
    "ax.hist(perm_variance, bins=11, rwidth=0.9)\n",
    "ax.axvline(x = observed_var, color='black', lw=2)\n",
    "ax.text(60, 200, 'Observed\\nvariance', bbox={'facecolor':'white'})\n",
    "ax.set_xlabel('Variance')\n",
    "ax.set_ylabel('Frequency')\n",
    "\n",
    "plt.tight_layout()\n",
    "plt.show()"
   ]
  },
  {
   "cell_type": "markdown",
   "id": "2bc71fb8",
   "metadata": {},
   "source": [
    "Альтернативный подход с использованием метода `permutation_test`"
   ]
  },
  {
   "cell_type": "code",
   "execution_count": 177,
   "id": "21204dd3",
   "metadata": {},
   "outputs": [
    {
     "name": "stdout",
     "output_type": "stream",
     "text": [
      "P-value 0.0754\n"
     ]
    },
    {
     "data": {
      "image/png": "[encoded data removed]",
      "text/plain": [
       "<Figure size 500x500 with 1 Axes>"
      ]
     },
     "metadata": {},
     "output_type": "display_data"
    }
   ],
   "source": [
    "# ddof=1 сделано, чтобы соответствовать значениям, приведенным в учебнике, но мне кажется, что здесь дисперсия должна быть рассчитана с ddof=0\n",
    "result = stats.permutation_test([grouped[col] for col in grouped.columns], lambda *x: np.mean(x, axis=1).var(ddof=1), n_resamples=9999, alternative='greater')\n",
    "print('P-value', result.pvalue) \n",
    "\n",
    "fig, ax = plt.subplots(figsize=(5, 5))\n",
    "ax.hist(result.null_distribution, bins=11, rwidth=0.9)\n",
    "ax.axvline(x = observed_var, color='black', lw=2)\n",
    "ax.text(60, 200, 'Observed\\nvariance', bbox={'facecolor':'white'})\n",
    "ax.set_xlabel('Variance')\n",
    "ax.set_ylabel('Frequency')\n",
    "\n",
    "plt.tight_layout()\n",
    "plt.show()"
   ]
  },
  {
   "cell_type": "markdown",
   "id": "9316fd29",
   "metadata": {},
   "source": [
    "## F-статистика\n",
    "\n",
    "F-статистика - результат сравнения популяционной дисперсии двумя разными способами:\n",
    "1. Через дисперсию значений внутри групп (в этом случае оценкой будет среднее значение таких дисперсих для всех групп).\n",
    "2. Через дисперсию средних значений групп (в этом случае согласно ЦПТ оценкой будет дисперсия средних значений, умноженная на количество значений в группе).\n",
    "\n",
    "F-статистика - отношение второй из этих оценок к первой."
   ]
  },
  {
   "cell_type": "code",
   "execution_count": 197,
   "id": "c3f34b77",
   "metadata": {},
   "outputs": [
    {
     "name": "stdout",
     "output_type": "stream",
     "text": [
      "Средняя дисперсия значений внутри групп: 101.15\n",
      "Дисперсия средних значений групп: 55.43\n",
      "F-значение: 2.74\n"
     ]
    }
   ],
   "source": [
    "aver_group_var = grouped.var().mean()\n",
    "print(f'Средняя дисперсия значений внутри групп: {aver_group_var:.2f}')\n",
    "var_of_group_means = grouped.mean().var()\n",
    "print(f'Дисперсия средних значений групп: {var_of_group_means:.2f}')\n",
    "f_value = (var_of_group_means * len(grouped)) / aver_group_var\n",
    "print(f'F-значение: {f_value:.2f}')"
   ]
  },
  {
   "cell_type": "markdown",
   "id": "0c7b610b",
   "metadata": {},
   "source": [
    "ANOVA тест можно делать с помощью готовых функций из scipy или statsmodels"
   ]
  },
  {
   "cell_type": "code",
   "execution_count": 199,
   "id": "4a2675da",
   "metadata": {},
   "outputs": [
    {
     "name": "stdout",
     "output_type": "stream",
     "text": [
      "Scipy ANOVA F-statistic: 2.74, p-value: 0.0776\n"
     ]
    }
   ],
   "source": [
    "# scipy ANOVA\n",
    "f_statistic, p_value = stats.f_oneway(*[grouped[col] for col in grouped.columns])\n",
    "print(f'Scipy ANOVA F-statistic: {f_statistic:.2f}, p-value: {p_value:.4f}')"
   ]
  },
  {
   "cell_type": "code",
   "execution_count": 198,
   "id": "f1c466e2",
   "metadata": {},
   "outputs": [
    {
     "name": "stdout",
     "output_type": "stream",
     "text": [
      "            df  sum_sq     mean_sq         F    PR(>F)\n",
      "Page       3.0   831.4  277.133333  2.739825  0.077586\n",
      "Residual  16.0  1618.4  101.150000       NaN       NaN\n"
     ]
    }
   ],
   "source": [
    "# statsmodels ANOVA\n",
    "model = smf.ols('Time ~ Page', data=df).fit()\n",
    "aov_table = sm.stats.anova_lm(model)\n",
    "print(aov_table)"
   ]
  },
  {
   "cell_type": "markdown",
   "id": "084dd237",
   "metadata": {},
   "source": [
    "# Определение размера выборки (Power and sample size)\n",
    "\n",
    "### **Ключевые понятия**\n",
    "\n",
    "1. **Размер эффекта (effect size)** - Минимальная величина  эффекта, которую требуется задетектировать. Например увеличение частоты появления какого-то явления на 20%.\n",
    "2. **Мощность (power)** - Вероятность обнаружить заданный размер эффекта при определённом размере выборки. Типичное желаемое значение 80%.\n",
    "3. **Уровень значимости (significance level)** - Значение уровня статистической значимости, при которой проводится тест.\n",
    "\n",
    "**Стандратныйы вопрос**, на который пытаемся ответить: какой размер выборки нужно взять, чтобы обнаружить изменение в значении интересующего нас параметра на Х процентов с вероятность Y и уровнем статистической значимости alpha?"
   ]
  },
  {
   "cell_type": "markdown",
   "id": "cbe661d2",
   "metadata": {},
   "source": [
    "### Пример\n",
    "\n",
    "Представим, что у нас есть достаточно редкое событие, которое происходит примерно в 2% случаев и мы хотим задетектировать увеличение частоты возникновения этих случаев на 10% (т.е. до 2.2%) с уровнем статистической значимости 0.05. Нас устроит вероятность задетектировать такое изменение в 80% случаев. Какой минимальный размер выборки нам нужно взять?"
   ]
  },
  {
   "cell_type": "markdown",
   "id": "cae3f95f",
   "metadata": {},
   "source": [
    "**Решение без использования статистических формул**\n",
    "\n",
    "1. Создаём 2 набора данных, симулирующих наши популяции.\n",
    "2. Набираем по выборке (с замещением, bootstrap выборки) из каждого набора данных.\n",
    "3. Проводим любой тест статстической значимости (перестановочный или с использованием формул).\n",
    "4. Повторяем шаги 2-3 много раз и смотрим с какой вероятностью мы смогли задетектирвоать интересующий нас эффект. Увеличиваем размер выборки пока не добъемся нужного значения."
   ]
  },
  {
   "cell_type": "code",
   "execution_count": 6,
   "id": "37a8950a",
   "metadata": {},
   "outputs": [
    {
     "name": "stdout",
     "output_type": "stream",
     "text": [
      "Sample size: 50000, Power: 0.7220\n",
      "Sample size: 51000, Power: 0.7310\n",
      "Sample size: 52000, Power: 0.6860\n",
      "Sample size: 53000, Power: 0.7420\n",
      "Sample size: 54000, Power: 0.7460\n",
      "Sample size: 55000, Power: 0.7630\n",
      "Sample size: 56000, Power: 0.7530\n",
      "Sample size: 57000, Power: 0.7490\n",
      "Sample size: 58000, Power: 0.7590\n",
      "Sample size: 59000, Power: 0.7740\n",
      "Sample size: 60000, Power: 0.7720\n",
      "Sample size: 61000, Power: 0.7840\n",
      "Sample size: 62000, Power: 0.8040\n",
      "Achieved desired power of 0.8 with sample size 62000.\n"
     ]
    }
   ],
   "source": [
    "init_rate = 0.02\n",
    "eff_size = 0.1\n",
    "final_rate = init_rate * (1 +eff_size)\n",
    "pop_size = 1000\n",
    "repeats = 1000\n",
    "alpha = 0.05\n",
    "set_power = 0.8\n",
    "sample_size = 50000\n",
    "\n",
    "s1 = pd.Series([1]*int(pop_size*init_rate) + [0]*int(pop_size*(1-init_rate)))\n",
    "s2 = pd.Series([1]*int(pop_size*final_rate) + [0]*int(pop_size*(1-final_rate)))\n",
    "\n",
    "def run_simulation(sample_size):\n",
    "    p_values = []\n",
    "    for _ in range(repeats):\n",
    "        sample1 = s1.sample(sample_size, replace=True, ignore_index=True)\n",
    "        sample2 = s2.sample(sample_size, replace=True, ignore_index=True)\n",
    "        _, p_value = stats.ttest_ind(sample1, sample2, equal_var=False, alternative='less')\n",
    "        p_values.append(p_value)\n",
    "    return p_values\n",
    "\n",
    "def calculate_power(p_values):\n",
    "    significant_results = [p < alpha for p in p_values]\n",
    "    power = sum(significant_results) / len(significant_results)\n",
    "    return power\n",
    "\n",
    "while True:\n",
    "    pwr = calculate_power(run_simulation(sample_size))\n",
    "    print(f\"Sample size: {sample_size}, Power: {pwr:.4f}\")\n",
    "    if pwr >= set_power:\n",
    "        print(f\"Achieved desired power of {set_power} with sample size {sample_size}.\")\n",
    "        break\n",
    "    sample_size += 1000"
   ]
  },
  {
   "cell_type": "markdown",
   "id": "97bb8473",
   "metadata": {},
   "source": [
    "**Решение с использованием готовых функций**"
   ]
  },
  {
   "cell_type": "code",
   "execution_count": 7,
   "id": "3f6db7ef",
   "metadata": {},
   "outputs": [
    {
     "name": "stdout",
     "output_type": "stream",
     "text": [
      "Sample Size: 63518.724\n"
     ]
    }
   ],
   "source": [
    "effect_size = sm.stats.proportion_effectsize(init_rate*(1+eff_size), init_rate)\n",
    "analysis = sm.stats.TTestIndPower()\n",
    "result = analysis.solve_power(effect_size=effect_size, \n",
    "                              alpha=alpha, power=set_power, alternative='larger')\n",
    "print('Sample Size: %.3f' % result)"
   ]
  },
  {
   "cell_type": "markdown",
   "id": "6cdd0512",
   "metadata": {},
   "source": [
    "При увеличении величины детектируемого изменения размер выборки будет быстро меняться"
   ]
  },
  {
   "cell_type": "code",
   "execution_count": 8,
   "id": "6e84796c",
   "metadata": {},
   "outputs": [
    {
     "name": "stdout",
     "output_type": "stream",
     "text": [
      "Sample Size: 2984.721\n"
     ]
    }
   ],
   "source": [
    "eff_size = 0.5\n",
    "effect_size = sm.stats.proportion_effectsize(init_rate*(1+eff_size), init_rate)\n",
    "analysis = sm.stats.TTestIndPower()\n",
    "result = analysis.solve_power(effect_size=effect_size, \n",
    "                              alpha=alpha, power=set_power, alternative='larger')\n",
    "print('Sample Size: %.3f' % result)"
   ]
  }
 ],
 "metadata": {
  "kernelspec": {
   "display_name": "venv",
   "language": "python",
   "name": "python3"
  },
  "language_info": {
   "codemirror_mode": {
    "name": "ipython",
    "version": 3
   },
   "file_extension": ".py",
   "mimetype": "text/x-python",
   "name": "python",
   "nbconvert_exporter": "python",
   "pygments_lexer": "ipython3",
   "version": "3.13.2"
  }
 },
 "nbformat": 4,
 "nbformat_minor": 5
}
