{
 "cells": [
  {
   "cell_type": "markdown",
   "id": "0da5ab55-df7a-48d9-a9e8-a84473eb2a72",
   "metadata": {
    "tags": []
   },
   "source": [
    "### Paired-Sample Tests\n",
    "\n",
    "In [The Design of Experiments](https://www.ncbi.nlm.nih.gov/pmc/articles/PMC2458144/https://www.ncbi.nlm.nih.gov/pmc/articles/PMC2458144/), Fisher describes an experiment conducted by Charles Darwin to measure the effect of cross-fertilization on plant growth. In Darwin's experiment, pairs of plants were grown from the same batch of seed in the same pot under the same conditions, except that one was self-fertilized and the other was cross-fertilized. \n",
    "\n",
    "> The evident object of these precautions is to increase the sensitiveness of the experiment, by making such differences in growth rate as were to be observed as little as possible dependent from environmental circumstancces, and as much as possible, therefore, from intrinsic differences due to their mode of origin.\n",
    "\n",
    "The `x` and `y` arrays below record the height of the cross-fertilized and self-fertilized plants, respectively."
   ]
  },
  {
   "cell_type": "code",
   "execution_count": 1,
   "id": "77e2b91f-6d6c-43c0-b6f1-0be309885c9d",
   "metadata": {},
   "outputs": [],
   "source": [
    "import numpy as np\n",
    "x = np.array([23.5, 12, 21, 22, 19.125, 21.5, 22.125, 20.375, 18.25, 21.625, 23.25, 21, 22.125, 23, 12])  # (in) cross-fertilized\n",
    "y = np.array([17.375, 20.375, 20, 20, 18.375, 18.625, 18.625, 15.25, 16.5, 18, 16.25, 18, 12.75, 15.5, 18])  # (in) self-fertilized\n",
    "assert len(x) == len(y)  # elements at corresponding positions form a pair"
   ]
  },
  {
   "cell_type": "markdown",
   "id": "24b37c06-fb34-493e-ab4b-c49a14185c69",
   "metadata": {},
   "source": [
    "The null hypothesis was that the method of fertilization would have no effect, and Darwin's alternative hypothesis was that cross-fertilized plants would be taller. Fisher recommends the t-test, which is implemented for paired (\"related\") samples by `stats.ttest_rel`."
   ]
  },
  {
   "cell_type": "code",
   "execution_count": 2,
   "id": "005bb7e7-8751-4298-a13e-c796e149df9e",
   "metadata": {},
   "outputs": [
    {
     "data": {
      "text/plain": [
       "TtestResult(statistic=np.float64(2.1479874613311205), pvalue=np.float64(0.02485147201090045), df=np.int64(14))"
      ]
     },
     "execution_count": 2,
     "metadata": {},
     "output_type": "execute_result"
    }
   ],
   "source": [
    "from scipy import stats\n",
    "# alternative hypothesis 'greater': the mean of the distribution underlying \n",
    "# `x` is greater than the mean of the distribution underlying `y` \n",
    "res_t = stats.ttest_rel(x, y, alternative='greater')\n",
    "res_t"
   ]
  },
  {
   "cell_type": "markdown",
   "id": "809a24f6-4345-47f5-b7b8-9c0b64b7384f",
   "metadata": {},
   "source": [
    "However, the t-test is derived under the assumption that samples were drawn from a normal population. He reports that \n",
    "\n",
    "> There has, however, in recent years, been a tendency for theoretical statisticians, not closely in touch with the requirements of experimental data, to stress the element of normality, in the hypothesis tested, as though it were a serious limitation to the test applied.\n",
    "\n",
    "(The same is true today!) And so he proposes a different test that does not rely on the assumption of normality:\n",
    "\n",
    "> On the hypothesis that the two series of seeds are random sampled from identical populations, and that their sites have been assigned to members of each pair independently at random, the 15 differences [in height between pairs] would each have occured with equal frequency with a positive or with a negative sign... \n",
    "Since *ex hypothesi* each of these $2^{15}$ combinations will occur by chance with equal frequency, a knowledge of how many of them are equal to or greater than the the value actually observed affords a direct arithmetical test of the significance of this value.\n",
    "\n",
    "He continues to perform the following test."
   ]
  },
  {
   "cell_type": "code",
   "execution_count": 5,
   "id": "5c328b74-1774-4008-a8fc-d922fa0d94b9",
   "metadata": {},
   "outputs": [
    {
     "data": {
      "text/plain": [
       "Text(0, 0.5, 'Observed Frequency')"
      ]
     },
     "execution_count": 5,
     "metadata": {},
     "output_type": "execute_result"
    },
    {
     "data": {
      "image/png": "[encoded data removed]",
      "text/plain": [
       "<Figure size 640x480 with 1 Axes>"
      ]
     },
     "metadata": {},
     "output_type": "display_data"
    }
   ],
   "source": [
    "from itertools import product\n",
    "import matplotlib.pyplot as plt\n",
    "\n",
    "def statistic(d):\n",
    "    # d is the differences in height between paired plants\n",
    "    # the statistic is the sum of these differences\n",
    "    return np.sum(d)\n",
    "\n",
    "# compute the statistic for all possible combinations of signs on the elements of `d`\n",
    "def null_distribution(d):\n",
    "    signs = (-1, 1) \n",
    "    n = len(d)  # number of observations per sample\n",
    "    null_distribution = []\n",
    "    for dsigns in product(*[signs]*n):\n",
    "        stat = statistic(d * dsigns)\n",
    "        null_distribution.append(stat)\n",
    "    return null_distribution\n",
    "\n",
    "d = x - y\n",
    "null_dist = null_distribution(d)\n",
    "assert len(null_dist) == 2**15\n",
    "bins = np.unique(null_dist).tolist()\n",
    "bins.append(np.max(null_dist)+1)\n",
    "plt.hist(null_dist, density=True, bins=bins)\n",
    "plt.xlabel(\"Value of test statistic\")\n",
    "plt.ylabel(\"Observed Frequency\")"
   ]
  },
  {
   "cell_type": "markdown",
   "id": "fa460986-ab98-448f-878d-35abe9e7c82a",
   "metadata": {},
   "source": [
    "> In just 863 cases out of 32,768 the total deviation will have a positive value as great as or greater than that observed.\n",
    "\n",
    "The $p$-value is simply the ratio of the two."
   ]
  },
  {
   "cell_type": "code",
   "execution_count": 6,
   "id": "ee2ae5b0-8ed4-4f20-be2d-904365f7ff6a",
   "metadata": {},
   "outputs": [
    {
     "name": "stdout",
     "output_type": "stream",
     "text": [
      "t-test p-value: 0.02485147201090045\n",
      "permutation test p-value: 0.026336669921875\n"
     ]
    }
   ],
   "source": [
    "assert np.sum(null_dist >= statistic(d)) == 863\n",
    "pvalue = np.sum(null_dist >= statistic(d)) / len(null_dist)\n",
    "print(f\"t-test p-value: {res_t.pvalue}\")\n",
    "print(f\"permutation test p-value: {pvalue}\")"
   ]
  },
  {
   "cell_type": "markdown",
   "id": "e105edca-1c7e-4223-ab29-ed5db55fcf4f",
   "metadata": {},
   "source": [
    "The two tests agree remarkably well in this case, suggesting the applicability of the t-test even when the original data are not strictly normally distributed."
   ]
  },
  {
   "cell_type": "markdown",
   "id": "bbcb4fdb-7191-4bc6-82c0-0fdfac445b4d",
   "metadata": {},
   "source": [
    "`permutation_test` minimizes the code required to perform the same procedure. The most essential difference here compared to the independent \n",
    "sample tests above is that we pass `permutation_type='samples'` instead of `permutation_type='independent'`. Note also that we can simply pass `np.sum` as the statistic because it satisfies the required interface, even with `vectorized=True`."
   ]
  },
  {
   "cell_type": "code",
   "execution_count": 7,
   "id": "dd6d90a0-e443-4ec2-a6c5-04eddccea877",
   "metadata": {},
   "outputs": [],
   "source": [
    "# Note that the first argument of `permutation_test` is a sequence containing all the samples.\n",
    "# We only have one sample here, but it still needs to be in a sequence.\n",
    "res = stats.permutation_test((d,), np.sum, alternative='greater', permutation_type='samples', vectorized=True, n_resamples=np.inf)\n",
    "assert res.pvalue == pvalue"
   ]
  },
  {
   "cell_type": "markdown",
   "id": "3ef5fc8c-00a0-4f70-b385-76f189b1f66b",
   "metadata": {},
   "source": [
    "The value of the `permutation_type`, \"samples\", comes from the fact that permuting the signs of the differences is equivalent to permuting the *sample* to which each paired observation is assigned. That is, we can obtain the same $p$-value by performing a two-sample test in which observations are exchanged between the two samples in all possible ways *without* breaking up pairs. This is what `permutation_test` does with `permutation_type='samples'` when there are two or more samples."
   ]
  },
  {
   "cell_type": "code",
   "execution_count": 8,
   "id": "c27182a9-ba9d-4b7f-8fb4-66b49eee11bb",
   "metadata": {},
   "outputs": [],
   "source": [
    "def statistic(x, y, axis=0):\n",
    "    # observations will be permuted between samples `x` and `y`,\n",
    "    # changing the sign of the corresponding element of `d` \n",
    "    d = x - y\n",
    "    return np.sum(d, axis=axis)\n",
    "\n",
    "res = stats.permutation_test((x, y), statistic, alternative='greater', permutation_type='samples', n_resamples=np.inf)\n",
    "assert res.pvalue == pvalue"
   ]
  },
  {
   "cell_type": "markdown",
   "id": "fe585e67-6955-43a5-a509-0b3e1743d22b",
   "metadata": {},
   "source": [
    "Other common hypothesis tests can be performed as paired-sample permutation tests. We continue with several comparisons against `scipy.stats.wilcoxon` to further illustrate the usage of `permutation_test` with `permutation_type='samples'`.\n",
    "\n",
    "#### Two-sample Test"
   ]
  },
  {
   "cell_type": "markdown",
   "id": "d6b915f5-6182-4060-806c-60aa242071ae",
   "metadata": {},
   "source": [
    "[`wilcoxon`](https://docs.scipy.org/doc/scipy/reference/generated/scipy.stats.wilcoxon.html) is to `ttest_rel` as `mannwhitneyu` is to `ttest_ind`; it is a nonparametric permutation test of the null hypothesis that each observation in a pair is drawn from the same distribution. Because it is a paired-sample test, it computes the $p$-value by reassigning observations between the samples in all possible ways while maintaining the pairs."
   ]
  },
  {
   "cell_type": "code",
   "execution_count": 15,
   "id": "4b4c4b12-0e1d-4a41-a202-3682cae871b1",
   "metadata": {},
   "outputs": [
    {
     "data": {
      "text/plain": [
       "WilcoxonResult(statistic=np.float64(11.0), pvalue=np.float64(0.7109375))"
      ]
     },
     "execution_count": 15,
     "metadata": {},
     "output_type": "execute_result"
    }
   ],
   "source": [
    "rng = np.random.default_rng()\n",
    "x = rng.random(7)\n",
    "y = rng.random(7)\n",
    "# Each element in `x` is paired with the corresponding element of `y` \n",
    "stats.wilcoxon(x, y, alternative='greater')"
   ]
  },
  {
   "cell_type": "markdown",
   "id": "d542cee8-1f20-440f-be69-9812f593099a",
   "metadata": {},
   "source": [
    "Using `wilcoxon` to compute only the statistic, we can use `permutation_test` to calculate precisely the same $p$-value."
   ]
  },
  {
   "cell_type": "code",
   "execution_count": 16,
   "id": "65a8170d-26be-4c64-9be3-d89e49699cc8",
   "metadata": {},
   "outputs": [
    {
     "data": {
      "text/plain": [
       "np.float64(0.7109375)"
      ]
     },
     "execution_count": 16,
     "metadata": {},
     "output_type": "execute_result"
    }
   ],
   "source": [
    "def statistic(x, y):\n",
    "    return stats.wilcoxon(x, y, alternative='greater', method='approx').statistic\n",
    "\n",
    "res = stats.permutation_test((x, y), statistic, alternative='greater', permutation_type='samples')\n",
    "res.pvalue"
   ]
  },
  {
   "cell_type": "markdown",
   "id": "8bd72655-a67b-4493-aa7b-54a4cee5ef98",
   "metadata": {},
   "source": [
    "(The warning can be safely ignored because it is referring to the $p$-value returned by the test, whereas we are using only the statistic value.)\n",
    "\n",
    "Again, the advantage of `permutation_test` is its ability to handles ties in the data; `wilcoxon` does not."
   ]
  },
  {
   "cell_type": "code",
   "execution_count": 18,
   "id": "3f9a43ec-861c-418d-b736-646075f65785",
   "metadata": {},
   "outputs": [
    {
     "data": {
      "text/plain": [
       "WilcoxonResult(statistic=np.float64(6.0), pvalue=np.float64(0.8125))"
      ]
     },
     "execution_count": 18,
     "metadata": {},
     "output_type": "execute_result"
    }
   ],
   "source": [
    "x = rng.integers(0, 5, size=7)\n",
    "y = rng.integers(0, 5, size=7)\n",
    "stats.wilcoxon(x, y, method='exact')"
   ]
  },
  {
   "cell_type": "code",
   "execution_count": 19,
   "id": "226a7dd7-7dc9-4ef1-9161-b2a59bf324fd",
   "metadata": {},
   "outputs": [
    {
     "data": {
      "text/plain": [
       "(np.float64(9.0), np.float64(1.0))"
      ]
     },
     "execution_count": 19,
     "metadata": {},
     "output_type": "execute_result"
    }
   ],
   "source": [
    "res = stats.permutation_test((x, y), statistic, permutation_type='samples')\n",
    "res.statistic, res.pvalue"
   ]
  },
  {
   "cell_type": "markdown",
   "id": "f10349d8-9232-482b-92ed-74e59023dd08",
   "metadata": {},
   "source": [
    "#### One-sample Test\n",
    "\n",
    "The `wilcoxon` statistic does not depend on the specific values in `x` and `y`, only on the values of `x - y`. Instead of passing `x` and `y` into `wilcoxon` separately, `wilcoxon` can accept a single sample - the differences between paired observations."
   ]
  },
  {
   "cell_type": "code",
   "execution_count": 20,
   "id": "c77d4c4c-efec-429b-9af1-b900308f05a5",
   "metadata": {},
   "outputs": [
    {
     "data": {
      "text/plain": [
       "WilcoxonResult(statistic=np.float64(25.0), pvalue=np.float64(0.0390625))"
      ]
     },
     "execution_count": 20,
     "metadata": {},
     "output_type": "execute_result"
    }
   ],
   "source": [
    "x = np.array([209, 200, 177, 169, 159, 169, 187])\n",
    "y = np.array([151, 168, 147, 164, 166, 163, 176])\n",
    "stats.wilcoxon(x - y, alternative='greater', method='exact')"
   ]
  },
  {
   "cell_type": "markdown",
   "id": "7d4d542a-a922-47ca-aebc-9328209a1da3",
   "metadata": {},
   "source": [
    "As described above, this is relatively common in paired-sample tests (e.g. see also `ttest_rel`), so `permutation_test` also supports single samples as input and forms the null distribution by permuting the *signs* of each observation."
   ]
  },
  {
   "cell_type": "code",
   "execution_count": 21,
   "id": "9667f070-749c-45c2-8e51-1e284fda6a1c",
   "metadata": {},
   "outputs": [
    {
     "data": {
      "text/plain": [
       "np.float64(0.0390625)"
      ]
     },
     "execution_count": 21,
     "metadata": {},
     "output_type": "execute_result"
    }
   ],
   "source": [
    "def statistic(d):\n",
    "    # return just the Mann-Whitney U statistic\n",
    "    return stats.wilcoxon(d, alternative='greater').statistic\n",
    "\n",
    "res = stats.permutation_test((x-y,), statistic, alternative='greater', permutation_type='samples')\n",
    "res.pvalue"
   ]
  },
  {
   "cell_type": "markdown",
   "id": "ecb0eb66-4c5c-4dd5-8403-a8c1a46f0ebd",
   "metadata": {},
   "source": [
    "#### Gotchas\n",
    "\n",
    "Suppose that we wish to perform the Wilcoxon test with a two-sided alternative. We might expect that `alternative='two-sided'` should be specified everywhere the `alternative` parameter is accepted."
   ]
  },
  {
   "cell_type": "code",
   "execution_count": 22,
   "id": "353b33cc-2bfc-43ea-b870-47fb600aa879",
   "metadata": {},
   "outputs": [
    {
     "name": "stdout",
     "output_type": "stream",
     "text": [
      "0.078125 0.15625\n"
     ]
    }
   ],
   "source": [
    "alternative = 'two-sided'\n",
    "res1 = stats.wilcoxon(x - y, alternative=alternative)\n",
    "\n",
    "def statistic(d):\n",
    "    return stats.wilcoxon(d, alternative=alternative).statistic\n",
    "\n",
    "res2 = stats.permutation_test((x-y,), statistic, alternative=alternative, permutation_type='samples')\n",
    "\n",
    "print(res1.pvalue, res2.pvalue)"
   ]
  },
  {
   "cell_type": "markdown",
   "id": "cefd2711-9f37-46fb-97c1-073362fa7041",
   "metadata": {},
   "source": [
    "This guess was not correct; the `pvalue` returned by `permutation_test` is greater by a factor of two. Note that the documentation of `wilcoxon` states:\n",
    "> If `alternative` is “two-sided”, [the `statistic` is] the sum of the ranks of the differences above or below zero, whichever is smaller.\n",
    "\n",
    "The sign information that should be carried by the statistic (\"above or below zero\") is not preserved by `statistic`. This can be corrected by passing `alternative='greater'` or `alternative='less'` in the call to `wilcoxon` so that that the statistic is always:\n",
    "> the sum of the ranks of the differences above zero."
   ]
  },
  {
   "cell_type": "code",
   "execution_count": 23,
   "id": "2aa4d597-f85e-4e31-a5f3-d38b8dd6fef4",
   "metadata": {},
   "outputs": [],
   "source": [
    "def statistic(d):\n",
    "    # `alternative='less'` or `alternative='greater'` will work\n",
    "    return stats.wilcoxon(d, alternative='less').statistic\n",
    "\n",
    "res2 = stats.permutation_test((x-y,), statistic, alternative=alternative, permutation_type='samples')\n",
    "\n",
    "np.testing.assert_allclose(res2.pvalue, res1.pvalue, atol=1e-15)"
   ]
  },
  {
   "cell_type": "markdown",
   "id": "31159ba3-500b-468f-90cd-00647704cd1b",
   "metadata": {},
   "source": [
    "### Other Tests\n",
    "`permutation_test` with `permutation_type='samples'` is a versatile tool for comparing paired samples. Provided only data and a statistic, it can produce the null distribution and replicate the $p$-value of similar tests in SciPy, and it may be more accurate than these existing implementations, especially for small samples and when there are ties:\n",
    "\n",
    "- [`ttest_rel`](https://docs.scipy.org/doc/scipy/reference/generated/scipy.stats.ttest_rel.html)\n",
    "- [`wilcoxon`](https://docs.scipy.org/doc/scipy/reference/generated/scipy.stats.wilcoxon.html)\n",
    "- [`page_trend_test`](https://docs.scipy.org/doc/scipy/reference/generated/scipy.stats.page_trend_test.html)\n",
    "\n",
    "In addition, `permutation_test` with `permutation_type='samples'` can be used to perform tests not yet implemented in SciPy.\n",
    "\n",
    "However, there are yet other types of permutation tests that assume neither that samples are independent nor paired. We conclude the study of `permutation_test` with [Correlated-Sample Tests](https://nbviewer.org/github/scipy/scipy-cookbook/blob/main/ipython/ResamplingAndMonteCarloMethods/resampling_tutorial_2c.ipynb)."
   ]
  }
 ],
 "metadata": {
  "kernelspec": {
   "display_name": "venv",
   "language": "python",
   "name": "python3"
  },
  "language_info": {
   "codemirror_mode": {
    "name": "ipython",
    "version": 3
   },
   "file_extension": ".py",
   "mimetype": "text/x-python",
   "name": "python",
   "nbconvert_exporter": "python",
   "pygments_lexer": "ipython3",
   "version": "3.13.2"
  }
 },
 "nbformat": 4,
 "nbformat_minor": 5
}
