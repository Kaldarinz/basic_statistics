{
 "cells": [
  {
   "cell_type": "markdown",
   "id": "c2bf7028-42c0-4310-8bf8-e7e5a9bf27fd",
   "metadata": {},
   "source": [
    "## Permutation Tests\n",
    "### Exact Tests\n",
    "Consider the following experiment from Efron and Tibshirani's [An Introduction to the Bootstrap](https://books.google.com/books?id=MWC1DwAAQBAJ&printsec=frontcoverhttps://books.google.com/books?id=MWC1DwAAQBAJ&printsec=frontcover). A new medical treatment is intended to prolong life after a form of surgery. Sixteen mice are randomly assigned to either a treatment group or control group under the constraint that only seven treatments are available. All mice receive the surgery, but only the treatment group will receive the treatment being studied. The survival time of each mouse after surgery is recorded below."
   ]
  },
  {
   "cell_type": "code",
   "execution_count": 1,
   "id": "823b24e2-d26a-4f79-94cb-cc1eb27c8e5b",
   "metadata": {},
   "outputs": [],
   "source": [
    "# survival times measured in days\n",
    "import numpy as np\n",
    "x = np.array([94, 197, 16, 38, 99, 141, 23])  # treatment group\n",
    "y = np.array([52, 104, 146, 10, 51, 30, 40, 27, 46])  # control group"
   ]
  },
  {
   "cell_type": "markdown",
   "id": "e19f78a9-e1c0-4d8a-aeb6-3fa944752948",
   "metadata": {},
   "source": [
    "The difference in mean lifetime after treatment between the two groups suggests that the treatment has a prolonging effect, as hypothesized."
   ]
  },
  {
   "cell_type": "code",
   "execution_count": 2,
   "id": "5b3b1ead-55f7-456f-b015-9e36d0380c9d",
   "metadata": {},
   "outputs": [
    {
     "name": "stdout",
     "output_type": "stream",
     "text": [
      "30.63492063492064\n"
     ]
    }
   ],
   "source": [
    "def statistic(x, y):\n",
    "    return np.mean(x) - np.mean(y)\n",
    "print(statistic(x, y))"
   ]
  },
  {
   "cell_type": "markdown",
   "id": "9d016372-3ebe-49e5-a70c-923d8e9a1650",
   "metadata": {},
   "source": [
    "It is possible that the treatment has no effect in reality; perhaps the apparent prolonging effect of the treatment is due to the inherent variability in survival times and chance alone. This possibility is typically assessed using Student's t-test. A common formulation of the test begins with the null hypothesis that the survival times `x` and `y` are sampled at random from normal distributions $X$ and $Y$ with means $\\mu_x$ and $\\mu_y$ and a common standard deviation, $\\sigma$. To test the null hypothesis that $\\mu_x = \\mu_y$ against the alternative that $\\mu_x > \\mu_y$, we perform the independent sample t-test with `stats.ttest_ind`."
   ]
  },
  {
   "cell_type": "code",
   "execution_count": 3,
   "id": "b993796d-05c7-4b75-bc70-7cd974da76b0",
   "metadata": {},
   "outputs": [
    {
     "data": {
      "text/plain": [
       "TtestResult(statistic=np.float64(1.1208453991208167), pvalue=np.float64(0.14060629239765005), df=np.float64(14.0))"
      ]
     },
     "execution_count": 3,
     "metadata": {},
     "output_type": "execute_result"
    }
   ],
   "source": [
    "from scipy import stats\n",
    "stats.ttest_ind(x, y, equal_var=True, alternative='greater')"
   ]
  },
  {
   "cell_type": "markdown",
   "id": "33e2913b-ac57-493a-a6c8-20f11ab9b933",
   "metadata": {},
   "source": [
    "The probability of observing such an extreme test statistic under the null hypothesis (due to chance alone) is greater than 14%, so these data do not seem inconsistent with the null hypothesis. The *point estimate* of the statistic (~30 days) suggested a life-prolonging effect, but such a value of the statistic could quite easily have been observed due to chance alone.\n",
    "\n",
    "Although the t-test tends to be rather robust to violations of its underlying assumptions (e.g., $X$ and $Y$ do not need to be strictly normally distributed for the test to be reasonably accurate), it is possible to perform a hypothesis test which requires almost no such assumptions at all. \n",
    "\n",
    "Instead, let the null hypothesis be that the observations from the samples `x` and `y` were all drawn independently<a name=\"cite_ref-2\"></a>[<sup>**†**</sup>](#cite_note-2) from a single distribution ($X = Y = Z$), and test this against the alternative that the two samples were drawn from distinct distributions that would tend to produce a greater value of `statistic` (in this case such that $\\mu_x > \\mu_y$).\n",
    "\n",
    "<a name=\"cite_ref-2\"></a>[<sup>**†**</sup>](#cite_note-2) Actually, only exchangeability is required [[4]](https://en.wikipedia.org/wiki/Exchangeable_random_variables)."
   ]
  },
  {
   "cell_type": "markdown",
   "id": "96079705",
   "metadata": {},
   "source": [
    "The complete population of mice survival times in the study is really:"
   ]
  },
  {
   "cell_type": "code",
   "execution_count": 4,
   "id": "8888960d-bb51-4549-a01c-d1e70f880744",
   "metadata": {},
   "outputs": [
    {
     "name": "stdout",
     "output_type": "stream",
     "text": [
      "[ 94 197  16  38  99 141  23  52 104 146  10  51  30  40  27  46]\n"
     ]
    }
   ],
   "source": [
    "z = np.concatenate([x, y])\n",
    "print(z)"
   ]
  },
  {
   "cell_type": "markdown",
   "id": "6204af8f-b858-4d5a-8bed-b4ef1bc00c30",
   "metadata": {},
   "source": [
    "Since the mice were randomly divided into the two groups under the constraint that there were only seven treatments available, any selection of seven mice from `z` to form the treatment group `x` was equally likely; the remaining mice would form the control group `y`. Furthermore, if the null hypothesis is true, the mice survival times would be *unaffected by the grouping*. Therefore, each value of the statistic obtained from the possible groupings is equally likely.\n",
    "\n",
    "We begin our hypothesis test by calculating the value of `statistic` for all possible *permutations*<a name=\"cite_ref-3\"> </a>[<sup>**‡**</sup>](#cite_note-3) of mice into the the two groups, forming an exact null distribution.\n",
    "\n",
    "<a name=\"cite_ref-3\"></a>[<sup>**‡**</sup>](#cite_note-3) Here and below, we will refer to the the ways of rearranging samples as \"permutations\" even when the word is not stricly appropriate in the technical sense. "
   ]
  },
  {
   "cell_type": "code",
   "execution_count": 5,
   "id": "c7fed236-d06e-478b-b580-cbdd468730eb",
   "metadata": {},
   "outputs": [
    {
     "data": {
      "text/plain": [
       "Text(0, 0.5, 'Observed Frequency')"
      ]
     },
     "execution_count": 5,
     "metadata": {},
     "output_type": "execute_result"
    },
    {
     "data": {
      "image/png": "[encoded data removed]",
      "text/plain": [
       "<Figure size 640x480 with 1 Axes>"
      ]
     },
     "metadata": {},
     "output_type": "display_data"
    }
   ],
   "source": [
    "from itertools import combinations\n",
    "import matplotlib.pyplot as plt\n",
    "\n",
    "def null_distribution(z, nx):\n",
    "    # z is the population of mice survival times in the study\n",
    "    # nx is the number of mice in the treatment group\n",
    "    # I think this the next line is wrong, we should not delete repeated values\n",
    "    z = set(z)\n",
    "    null_distribution = []\n",
    "    for x in combinations(z, nx):\n",
    "        y = z - set(x)\n",
    "        stat = statistic(list(x), list(y))\n",
    "        null_distribution.append(stat)\n",
    "    return null_distribution\n",
    "\n",
    "null_dist = null_distribution(z, len(x))\n",
    "plt.hist(null_dist, density=True, bins=50)\n",
    "plt.xlabel(\"Value of test statistic\")\n",
    "plt.ylabel(\"Observed Frequency\")"
   ]
  },
  {
   "cell_type": "markdown",
   "id": "13914661-4e02-47db-82d0-a2302cc1e695",
   "metadata": {},
   "source": [
    "We complete the hypothesis test by comparing the observed value of the test statistic to the rest of the null distribution."
   ]
  },
  {
   "cell_type": "code",
   "execution_count": 6,
   "id": "d0b5ba29-952e-4652-8f35-58928e76e6ad",
   "metadata": {},
   "outputs": [
    {
     "name": "stdout",
     "output_type": "stream",
     "text": [
      "0.1409965034965035\n"
     ]
    }
   ],
   "source": [
    "pvalue = np.mean(null_dist >= statistic(x, y) )\n",
    "print(pvalue)"
   ]
  },
  {
   "cell_type": "markdown",
   "id": "90fd3def-2996-4366-a661-76c3216cd634",
   "metadata": {},
   "source": [
    "Approximately 14% of the values of the null distribution are greater than the observed value of the statistic, so there is a 14% probability of observing such an extreme value of the statistic even if the the treatment had no effect at all. \n",
    "\n",
    "Given data and a statistic function, `stats.permutation_test` performs the same test automatically."
   ]
  },
  {
   "cell_type": "code",
   "execution_count": 7,
   "id": "8ff08473-77e4-4bc9-864e-2f06f19f2948",
   "metadata": {},
   "outputs": [
    {
     "name": "stdout",
     "output_type": "stream",
     "text": [
      "PermutationTestResult(statistic=np.float64(30.63492063492064), pvalue=np.float64(0.1409965034965035), null_distribution=array([ 30.63492063,  38.        ,  51.20634921, ..., -11.01587302,\n",
      "       -45.55555556, -34.88888889], shape=(11440,)))\n"
     ]
    }
   ],
   "source": [
    "# `alternative` is 'greater' because we are interested in the percentage of values in the\n",
    "#  null distribution that are greater than the observed value of the test statistic.\n",
    "# `n_resamples` is `np.inf` to ensure that all possible permutations are used\n",
    "# Note that `(x, y)`, a tuple, is a single argument.\n",
    "res = stats.permutation_test((x, y), statistic, alternative='greater', n_resamples = np.inf)\n",
    "assert res.pvalue == pvalue\n",
    "print(res)"
   ]
  },
  {
   "cell_type": "markdown",
   "id": "8b5bb238-7db9-40eb-8221-d703c3d26b70",
   "metadata": {},
   "source": [
    "It returns the observed value of the test statistic, the null distribution, and the $p$-value. They are related as above:"
   ]
  },
  {
   "cell_type": "code",
   "execution_count": 8,
   "id": "f303201f-cf56-46c1-8ee3-428afca93eb3",
   "metadata": {},
   "outputs": [],
   "source": [
    "assert np.sum(res.null_distribution >= res.statistic ) / len(res.null_distribution) == res.pvalue"
   ]
  },
  {
   "cell_type": "markdown",
   "id": "ae116861-ded9-4728-a1b1-4c9c34c50fdd",
   "metadata": {},
   "source": [
    "Note that the exact $p$-value from the permutation test matches the $p$-value from the t-test quite closely. (As we shall see, Ronald Fisher introduced permutation tests primarily to support the use of the t-test in applications where the underlying normality assumptions were not strictly true [[5]](https://www.ncbi.nlm.nih.gov/pmc/articles/PMC2458144/https://www.ncbi.nlm.nih.gov/pmc/articles/PMC2458144/).)"
   ]
  },
  {
   "cell_type": "markdown",
   "id": "ae96fea0-1255-48ac-9d7f-e56f1db10ae2",
   "metadata": {},
   "source": [
    "### Randomized Tests\n",
    "The number of possible permutations grows rather quickly as the number of observations increases. Specifically, if $n_x$ and $n_y$ are the number of observations in `x` and `y`, respectively, than the number of possible permutations is $\\frac{(n_x + n_y)!}{n_x! n_y!}$. "
   ]
  },
  {
   "cell_type": "code",
   "execution_count": 9,
   "id": "d864ec56-9438-45f2-a41a-cb30e3c1ac35",
   "metadata": {},
   "outputs": [
    {
     "name": "stdout",
     "output_type": "stream",
     "text": [
      "11440\n"
     ]
    }
   ],
   "source": [
    "from math import factorial as f\n",
    "n_x = len(x)\n",
    "n_y = len(y)\n",
    "assert len(res.null_distribution) == f(n_x + n_y) / (f(n_x) * f(n_y))\n",
    "print(len(res.null_distribution))"
   ]
  },
  {
   "cell_type": "markdown",
   "id": "432cff2d-f08e-4be3-99f2-c97a8f751e83",
   "metadata": {},
   "source": [
    "When the number of possible permutations is too large, it is common to use a randomly-sampled subset of the possible permutations instead. As with `monte_carlo_test` the maximum number of resamples used by `permutation_test` is controlled using the `n_resamples` parameter."
   ]
  },
  {
   "cell_type": "code",
   "execution_count": 81,
   "id": "e9625f6e-d527-4e78-89fc-e24a603a2811",
   "metadata": {},
   "outputs": [
    {
     "data": {
      "text/plain": [
       "np.float64(0.1402)"
      ]
     },
     "execution_count": 81,
     "metadata": {},
     "output_type": "execute_result"
    }
   ],
   "source": [
    "# use only 4999 randomly-sampled permutations\n",
    "res = stats.permutation_test((x, y), statistic, alternative='greater', n_resamples = 9999)\n",
    "res.pvalue"
   ]
  },
  {
   "cell_type": "markdown",
   "id": "e1937a92-5ad8-4164-a6c0-5ee01e6702b0",
   "metadata": {},
   "source": [
    "If the number of distinct permutations of the data is less than or equal to `n_resamples`, `permutation_test` performs an exact test, computing the value of the test statistic for each distinct permutation exactly once. If the number of distinct permutations exceeds `n_resamples`, `permutation_test` computes the value of the statistic for `n_resamples` random permutations, and the $p$-value is computed as:"
   ]
  },
  {
   "cell_type": "code",
   "execution_count": 11,
   "id": "8e7e5525-5cbf-43df-86b2-7af081ad96e4",
   "metadata": {},
   "outputs": [],
   "source": [
    "pvalue = (np.sum(res.null_distribution >= res.statistic ) + 1) / (len(res.null_distribution) + 1)\n",
    "assert pvalue == res.pvalue"
   ]
  },
  {
   "cell_type": "markdown",
   "id": "459d7ca3-f719-4b8e-a855-8e47846c3ec0",
   "metadata": {},
   "source": [
    "Note that `1` is added to both the numerator and denominator when performing the randomized test [[6]](https://www.degruyter.com/document/doi/10.2202/1544-6115.1585/html). This can be thought of as including the observed value of the test statistic in the null distribution, and it ensures that the $p$-value of a randomized test is never zero."
   ]
  },
  {
   "cell_type": "markdown",
   "id": "cb30657f-b7db-4762-95c2-1eebb2a05a64",
   "metadata": {},
   "source": [
    "A wide variety of common hypothesis tests can be performed as permutation tests. We continue with several other examples to explore the flexibility of `permutation_test`, beginning with [Independent-Sample Tests](https://nbviewer.org/github/scipy/scipy-cookbook/blob/main/ipython/ResamplingAndMonteCarloMethods/resampling_tutorial_2a.ipynb)."
   ]
  }
 ],
 "metadata": {
  "kernelspec": {
   "display_name": "venv",
   "language": "python",
   "name": "python3"
  },
  "language_info": {
   "codemirror_mode": {
    "name": "ipython",
    "version": 3
   },
   "file_extension": ".py",
   "mimetype": "text/x-python",
   "name": "python",
   "nbconvert_exporter": "python",
   "pygments_lexer": "ipython3",
   "version": "3.13.2"
  }
 },
 "nbformat": 4,
 "nbformat_minor": 5
}
