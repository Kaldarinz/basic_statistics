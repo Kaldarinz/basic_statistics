{
 "cells": [
  {
   "cell_type": "markdown",
   "id": "693a57e1-90c1-4947-8bb4-55043cafd19f",
   "metadata": {},
   "source": [
    "### Correlated-Sample Tests"
   ]
  },
  {
   "cell_type": "markdown",
   "id": "ffeda6a3-f272-4d58-aa8b-a85be4c17f04",
   "metadata": {},
   "source": [
    "Hollander and Wolfe's [Nonparametric Statistic methods](https://onlinelibrary.wiley.com/doi/book/10.1002/9781119196037) considers data from [[7]](https://www.jci.org/articles/view/106443), which studied the relationship between free proline (an amino acid) and total collagen (a protein often found in connective tissue) in diseased human livers.\n",
    "\n",
    "The `x` and `y` arrays below record the measurements of the two compounds."
   ]
  },
  {
   "cell_type": "code",
   "execution_count": 1,
   "id": "9f6a6603-3dec-4d28-b101-28c550d6e326",
   "metadata": {},
   "outputs": [],
   "source": [
    "import numpy as np\n",
    "x = np.array([7.1, 7.1, 7.2, 8.3, 9.4, 10.5, 11.4])  # total collagen (mg/g dry weight of liver)\n",
    "y = np.array([2.8, 2.9, 2.8, 2.6, 3.5, 4.6, 5.0])  # free proline (μ mole/g dry weight of liver)"
   ]
  },
  {
   "cell_type": "markdown",
   "id": "341c6722-3240-4baa-854f-6cab6d397557",
   "metadata": {},
   "source": [
    "The text shows the results of analysis using Spearman's correlation coefficient, a statistic sensitive to linear association between the ranks of observations within the two samples. Specifically, the null hypothesis that there is no association between total collagen and free protein is tested against the alternative that there is a positive association between the two (whether linear or not)."
   ]
  },
  {
   "cell_type": "code",
   "execution_count": 2,
   "id": "26d45212-2e68-4177-ad0d-56c6560fd0f3",
   "metadata": {},
   "outputs": [
    {
     "data": {
      "text/plain": [
       "SignificanceResult(statistic=np.float64(0.7000000000000001), pvalue=np.float64(0.03995834515444954))"
      ]
     },
     "execution_count": 2,
     "metadata": {},
     "output_type": "execute_result"
    }
   ],
   "source": [
    "from scipy import stats\n",
    "res_asymptotic = stats.spearmanr(x, y, alternative='greater')\n",
    "res_asymptotic"
   ]
  },
  {
   "cell_type": "markdown",
   "id": "6a472b08-7ec8-4aeb-8588-8dbec497c84f",
   "metadata": {},
   "source": [
    "As usual, the $p$-value of SciPy's `stats.spearmanr` approximates the probability of obtaining such an extreme value of the statistic under the null hypothesis. The small $p$-value corresponding with the positive correlation coefficient provides \"marginal evidence\" that the total collagen and free proline are positively correlated.\n",
    "\n",
    "However, the $p$-value of `stats.spearmanr` is based on an asymptotic approximation, which may not be accurate for such a small sample. Even if `spearmanr` did implement an exact $p$-value calculation, it is unlikely that it would support data with ties due to the limitations of common algorithms. Therefore, we consider how a permutation test oculd be used to compute an exact $p$-value.\n",
    "\n",
    "Under the null hypothesis, all the proline measurements are independent samples from the same distribution; they are uncorrelated with the measurements of collagen, and the observed pairings have no significance. Therefore, the null distribution is formed by computing the statistic for *all possible pairings* of proline and collagen measurements *without permuting samples*. Because `spearmanr` treats elements `x[i]` and `y[i]` as paired, we can accomplish this by computing the statistic for all possible orderings of only one of the two arrays (e.g. `y`)."
   ]
  },
  {
   "cell_type": "code",
   "execution_count": 3,
   "id": "bfce021a-2bf1-4797-affd-b90baa419591",
   "metadata": {},
   "outputs": [
    {
     "data": {
      "text/plain": [
       "Text(0, 0.5, 'Observed Frequency')"
      ]
     },
     "execution_count": 3,
     "metadata": {},
     "output_type": "execute_result"
    },
    {
     "data": {
      "image/png": "[encoded data removed]",
      "text/plain": [
       "<Figure size 640x480 with 1 Axes>"
      ]
     },
     "metadata": {},
     "output_type": "display_data"
    }
   ],
   "source": [
    "from itertools import permutations\n",
    "import matplotlib.pyplot as plt\n",
    "\n",
    "def statistic(x, y):\n",
    "    return stats.spearmanr(x, y, alternative='greater').correlation\n",
    "\n",
    "def null_distribution(x, y):\n",
    "    # the order of `x` can remain fixed\n",
    "    # By generating all possible orderings of `y` (alone),\n",
    "    # we explore all possible pairings between observations\n",
    "    # in `x` and `y`\n",
    "    null_distribution = []\n",
    "    for yperm in permutations(y):\n",
    "        stat = statistic(x, yperm)\n",
    "        null_distribution.append(stat)\n",
    "    return null_distribution\n",
    "\n",
    "null_dist = null_distribution(x, y)\n",
    "plt.hist(null_dist, density=True, bins=100)\n",
    "plt.xlabel(\"Value of test statistic\")\n",
    "plt.ylabel(\"Observed Frequency\")"
   ]
  },
  {
   "cell_type": "markdown",
   "id": "e5709630-c43b-49d7-a760-ef5c46b55443",
   "metadata": {},
   "source": [
    "The $p$-value is the percentage of values in the null distribution that equal or exceed the observed value of the statistic."
   ]
  },
  {
   "cell_type": "code",
   "execution_count": 4,
   "id": "d0e86da4-b5d0-4a5b-9cbe-1f1192bce745",
   "metadata": {},
   "outputs": [
    {
     "name": "stdout",
     "output_type": "stream",
     "text": [
      "Asymptotic p-value: 0.03995834515444954\n",
      "Exact p-value: 0.04563492063492063\n"
     ]
    }
   ],
   "source": [
    "pvalue = np.sum(null_dist >= statistic(x, y)) / len(null_dist)\n",
    "print(f\"Asymptotic p-value: {res_asymptotic.pvalue}\")\n",
    "print(f\"Exact p-value: {pvalue}\")"
   ]
  },
  {
   "cell_type": "markdown",
   "id": "f272d090-d956-426d-86f4-16018675db28",
   "metadata": {},
   "source": [
    "The asymptotic p-value is reasonably accurate in this case, but it smaller. This suggests that the asymptotic approximation is not conservative; that is, it is more likely to lead to _Type I error_ - being taken as evidence against the null hypothesis even when the null hypothesis is actually true.\n",
    "\n",
    "`permutation_test` can perform the same test using `permutation_type='pairings'` (so named because it forms the null distribution by permuting the pairings of the observations without permuting observations between samples)."
   ]
  },
  {
   "cell_type": "code",
   "execution_count": 6,
   "id": "26863c88-a0c5-4bb6-b20b-c9265c8702b3",
   "metadata": {},
   "outputs": [],
   "source": [
    "def statistic(y):\n",
    "    return stats.spearmanr(x, y).correlation\n",
    "res = stats.permutation_test((y,), statistic, alternative='greater', permutation_type='pairings', n_resamples=np.inf)\n",
    "assert res.pvalue == pvalue"
   ]
  },
  {
   "cell_type": "markdown",
   "id": "1e176203-d762-43a9-8a13-95830b8bcdaf",
   "metadata": {},
   "source": [
    "Many other correlation tests can be performed as permutation tests. We continue with another example to help avoid common pitfalls in the usage of `permutation_test` with `permutation_type='pairings'`."
   ]
  },
  {
   "cell_type": "markdown",
   "id": "713434e9-ad0e-4de0-a2ab-c1c9f15fa3fe",
   "metadata": {},
   "source": [
    "#### Gotchas\n",
    "\n",
    "Another example of a correlation test in SciPy is `scipy.stats.kendalltau`."
   ]
  },
  {
   "cell_type": "code",
   "execution_count": 6,
   "id": "c06f4848-7dc1-4d38-9c10-c3b75d5bbedd",
   "metadata": {},
   "outputs": [
    {
     "data": {
      "text/plain": [
       "KendalltauResult(correlation=-0.39999999999999997, pvalue=0.48333333333333334)"
      ]
     },
     "execution_count": 6,
     "metadata": {},
     "output_type": "execute_result"
    }
   ],
   "source": [
    "# Each element in `x` is paired with the corresponding element of `y`\n",
    "rng = np.random.default_rng()\n",
    "x = rng.random(5)\n",
    "y = rng.random(5)  \n",
    "stats.kendalltau(x, y, alternative='two-sided')"
   ]
  },
  {
   "cell_type": "markdown",
   "id": "b1d8e8f8-6350-4e8a-9e04-cb9aa9be6b34",
   "metadata": {},
   "source": [
    "Like `mannwhitneyu` and `wilcoxon`, `kendalltau` computes its p-value using permutations. Using `kendalltau` to compute only the statistic, we could compute the same $p$-value with `permutation_test`."
   ]
  },
  {
   "cell_type": "code",
   "execution_count": 7,
   "id": "b6039a81-5a7f-4b17-9372-91644d1f522b",
   "metadata": {},
   "outputs": [
    {
     "data": {
      "text/plain": [
       "0.4816"
      ]
     },
     "execution_count": 7,
     "metadata": {},
     "output_type": "execute_result"
    }
   ],
   "source": [
    "def statistic(x, y):\n",
    "    return stats.kendalltau(x, y).correlation\n",
    "res = stats.permutation_test((x, y,), statistic, alternative='two-sided', permutation_type='pairings')\n",
    "res.pvalue"
   ]
  },
  {
   "cell_type": "markdown",
   "id": "14f3d86c-a40c-4b52-b0f5-4044756e5b3f",
   "metadata": {},
   "source": [
    "What happened here? In all cases before, `permutation_test` produced the exact p-value, but here we have only a four-digit approximation.\n",
    "\n",
    "Note that the null distribution contains only 9999 elements, the default for a randomized test."
   ]
  },
  {
   "cell_type": "code",
   "execution_count": 8,
   "id": "83f73b8b-1112-4f69-812e-6354fcf348c0",
   "metadata": {},
   "outputs": [
    {
     "data": {
      "text/plain": [
       "9999"
      ]
     },
     "execution_count": 8,
     "metadata": {},
     "output_type": "execute_result"
    }
   ],
   "source": [
    "len(res.null_distribution)"
   ]
  },
  {
   "cell_type": "markdown",
   "id": "7680292d-e64c-4827-aaaa-21a4b42a58fe",
   "metadata": {},
   "source": [
    "If we were to allow for unlimited permutations, `permutation_test` would eventually compute the exact answer. "
   ]
  },
  {
   "cell_type": "code",
   "execution_count": 9,
   "id": "6ea2531c-b691-4c03-b644-426311f1d466",
   "metadata": {},
   "outputs": [],
   "source": [
    "res = stats.permutation_test((x, y), statistic, alternative='two-sided', permutation_type='pairings', n_resamples=np.inf)"
   ]
  },
  {
   "cell_type": "markdown",
   "id": "21aa5416-f1f3-4304-a8e9-12d800aaab49",
   "metadata": {},
   "source": [
    "Then we can compute the $p$-value as the percentage of elements in the null distribution as extreme as the observed value of the test statistic. In this case, either large or small values are considered more extreme because `alternative='two-sided'`.  "
   ]
  },
  {
   "cell_type": "code",
   "execution_count": 10,
   "id": "47c98f9d-5412-4eee-ba26-711088cdd83f",
   "metadata": {},
   "outputs": [
    {
     "name": "stdout",
     "output_type": "stream",
     "text": [
      "0.48333333333333334\n"
     ]
    }
   ],
   "source": [
    "pvalue = np.sum(np.abs(res.null_distribution) >= np.abs(statistic(x, y)) ) / len(res.null_distribution)\n",
    "print(pvalue)"
   ]
  },
  {
   "cell_type": "markdown",
   "id": "fd18314e-6613-4f56-8637-1ead152e627c",
   "metadata": {},
   "source": [
    "Note that this definition only makes sense for distributions that are symmetric about a known median. To produce the same value for symmetric distributions but generalize to asymmetric distributions, `permutation_test` actually computes the p-value by doubling the minimum of the `'greater'` and `'less'` p-values."
   ]
  },
  {
   "cell_type": "code",
   "execution_count": 11,
   "id": "1cf372d4-209e-4861-9580-7368c1968cdb",
   "metadata": {},
   "outputs": [
    {
     "name": "stdout",
     "output_type": "stream",
     "text": [
      "0.48333333333333334\n"
     ]
    }
   ],
   "source": [
    "pvalue_greater = np.sum(res.null_distribution >= statistic(x, y) ) / len(res.null_distribution)\n",
    "pvalue_less = np.sum(res.null_distribution <= statistic(x, y) ) / len(res.null_distribution)\n",
    "pvalue = 2 * min(pvalue_greater, pvalue_less)\n",
    "print(pvalue)"
   ]
  },
  {
   "cell_type": "markdown",
   "id": "a912f79d-1fae-42e6-9c2c-744b36c1e285",
   "metadata": {},
   "source": [
    "But let's step back a minute - theoretically, there are only $5!=120$ possible pairings of the observations between the two samples, so why did it take so many resamples to compute an exact answer? \n",
    "\n",
    "`permutation_test` permutes the orders of _all_ provided samples, so we computed all possible permutations of both `x` and `y`. That's $5! \\cdot 5!=14,400$ permutations:"
   ]
  },
  {
   "cell_type": "code",
   "execution_count": 12,
   "id": "06f986f4-0662-44b7-9509-9a58de803544",
   "metadata": {},
   "outputs": [
    {
     "data": {
      "text/plain": [
       "14400"
      ]
     },
     "execution_count": 12,
     "metadata": {},
     "output_type": "execute_result"
    }
   ],
   "source": [
    "len(res.null_distribution)"
   ]
  },
  {
   "cell_type": "markdown",
   "id": "e20badf7-1766-4181-80c0-ae71d465ec70",
   "metadata": {},
   "source": [
    "This is $5!$ times the amount of work it needed to do, since only the pairings between observations in `x` and `y` affect the statistic, not the order of the pairs within the arrays. We improve efficiency by leaving `x` out of the call to `permutation_test` and simply include it as part of the `statistic` itself."
   ]
  },
  {
   "cell_type": "code",
   "execution_count": 13,
   "id": "9a0f9fe9-2eb3-49d0-bf23-555e4048bdb7",
   "metadata": {},
   "outputs": [
    {
     "name": "stdout",
     "output_type": "stream",
     "text": [
      "0.48333333333333334\n"
     ]
    }
   ],
   "source": [
    "def statistic(y):\n",
    "    return stats.kendalltau(x, y, alternative='two-sided').correlation\n",
    "\n",
    "res = stats.permutation_test((y,), statistic, alternative='two-sided', permutation_type='pairings')\n",
    "assert len(res.null_distribution) == 120\n",
    "print(res.pvalue)"
   ]
  },
  {
   "cell_type": "markdown",
   "id": "86228230-34c8-4b15-8d32-02329ede4d90",
   "metadata": {},
   "source": [
    "Again, `permutation_test` is particularly useful when there are ties because, according to the [`kendalltau` documentation](https://docs.scipy.org/doc/scipy/reference/generated/scipy.stats.kendalltau.html):\n",
    "\n",
    "> ‘exact’: computes the exact p-value, but can only be used if no ties are present. "
   ]
  },
  {
   "cell_type": "code",
   "execution_count": 14,
   "id": "9fa298f8-5e90-44bb-9c4a-57f88a3432aa",
   "metadata": {},
   "outputs": [
    {
     "name": "stdout",
     "output_type": "stream",
     "text": [
      "ValueError: Ties found, exact method cannot be used.\n"
     ]
    }
   ],
   "source": [
    "# with more observations than distinct values,\n",
    "# there will be ties within and between samples\n",
    "x = rng.integers(0, 5, size=7) \n",
    "y = rng.integers(0, 5, size=7)\n",
    "try:\n",
    "    stats.kendalltau(x, y, method='exact', alternative='two-sided')\n",
    "except ValueError as e:\n",
    "    print(f\"{type(e).__name__}: {e}\")"
   ]
  },
  {
   "cell_type": "markdown",
   "id": "b8d88171-4457-4140-b34a-239edfdf6d70",
   "metadata": {},
   "source": [
    "`permutation_test` has no such restriction. Since we are using `kendalltau` only to compute the correlation statistic, we can pass option `method='asymptotic'` to avoid the computational expense of computing exact p-values."
   ]
  },
  {
   "cell_type": "code",
   "execution_count": 15,
   "id": "899c532f-b6b3-4819-b58d-445c724624be",
   "metadata": {},
   "outputs": [
    {
     "data": {
      "text/plain": [
       "0.5714285714285714"
      ]
     },
     "execution_count": 15,
     "metadata": {},
     "output_type": "execute_result"
    }
   ],
   "source": [
    "def statistic(y):\n",
    "    return stats.kendalltau(x, y, alternative='two-sided', method='asymptotic').correlation\n",
    "\n",
    "res = stats.permutation_test((y,), statistic, alternative='two-sided', permutation_type='pairings')\n",
    "res.pvalue"
   ]
  },
  {
   "cell_type": "markdown",
   "id": "427a5fa2-096a-419e-9f68-29338f6ef4c5",
   "metadata": {},
   "source": [
    "### Other Tests\n",
    "`permutation_test` with `permutation_type='pairings'` is a versatile tool for assessing association between samples. Provided only data and a statistic, it can produce the null distribution and replicate the $p$-value of similar tests in SciPy, and it may be more accurate than these existing implementations, especially for small samples and when there are ties:\n",
    "\n",
    "- [`pearsonr`](https://docs.scipy.org/doc/scipy/reference/generated/scipy.stats.pearsonr.html)\n",
    "- [`spearmanr`](https://docs.scipy.org/doc/scipy/reference/generated/scipy.stats.spearmanr.html)\n",
    "- [`kendalltau`](https://docs.scipy.org/doc/scipy/reference/generated/scipy.stats.kendalltau.html)\n",
    "- [`somersd`](https://docs.scipy.org/doc/scipy/reference/generated/scipy.stats.somersd.html)\n",
    "- [`linregress`](https://docs.scipy.org/doc/scipy/reference/generated/scipy.stats.linregress.html)\n",
    "\n",
    "In addition, `permutation_test` with `permutation_type='pairings'` can be used to perform tests not yet implemented in SciPy.\n",
    "\n",
    "But there is much more to statistics than $p$-values! We conclude with a discussion of one of the most versatile techniques of all: [the bootstrap](https://nbviewer.org/github/scipy/scipy-cookbook/blob/main/ipython/ResamplingAndMonteCarloMethods/resampling_tutorial_3.ipynb)."
   ]
  }
 ],
 "metadata": {
  "kernelspec": {
   "display_name": "venv",
   "language": "python",
   "name": "python3"
  },
  "language_info": {
   "codemirror_mode": {
    "name": "ipython",
    "version": 3
   },
   "file_extension": ".py",
   "mimetype": "text/x-python",
   "name": "python",
   "nbconvert_exporter": "python",
   "pygments_lexer": "ipython3",
   "version": "3.13.2"
  }
 },
 "nbformat": 4,
 "nbformat_minor": 5
}
